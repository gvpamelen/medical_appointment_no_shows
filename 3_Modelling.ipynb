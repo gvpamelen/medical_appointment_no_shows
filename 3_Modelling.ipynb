{
 "cells": [
  {
   "cell_type": "markdown",
   "metadata": {},
   "source": [
    "# Model to predict no-show\n",
    "***\n",
    "In this notebook we train, optimise and evaluate and Random Forrest Classifier to predict if a patient will be a no-show at his appointment. \n",
    "\n",
    "**NOTE: there is a control parameter around the Grid Searches used for Hyperparameter tuning, to ensure it doesn't run each time we run this notebook**"
   ]
  },
  {
   "cell_type": "code",
   "execution_count": 624,
   "metadata": {},
   "outputs": [
    {
     "name": "stdout",
     "output_type": "stream",
     "text": [
      "The autoreload extension is already loaded. To reload it, use:\n",
      "  %reload_ext autoreload\n"
     ]
    }
   ],
   "source": [
    "import numpy as np\n",
    "import pandas as pd\n",
    "import tables\n",
    "from joblib import dump, load\n",
    "from datetime import datetime\n",
    "\n",
    "import matplotlib.pyplot as plt\n",
    "%matplotlib inline\n",
    "\n",
    "import seaborn as sns\n",
    "sns.set()\n",
    "\n",
    "%load_ext autoreload\n",
    "%autoreload 2"
   ]
  },
  {
   "cell_type": "code",
   "execution_count": 518,
   "metadata": {},
   "outputs": [],
   "source": [
    "from sklearn.model_selection import train_test_split, GridSearchCV, RandomizedSearchCV\n",
    "from sklearn.ensemble import RandomForestClassifier\n",
    "from sklearn.metrics import accuracy_score, recall_score, precision_score, f1_score, confusion_matrix, roc_curve, roc_auc_score, plot_confusion_matrix, SCORERS"
   ]
  },
  {
   "cell_type": "code",
   "execution_count": 411,
   "metadata": {},
   "outputs": [],
   "source": [
    "from src.evaluate_model import analyse_result, feature_importance, feature_importance_plot, roc_curve_plot"
   ]
  },
  {
   "cell_type": "markdown",
   "metadata": {},
   "source": [
    "## 1. Load Data\n",
    "***\n",
    "Use the data with features generated during EDA."
   ]
  },
  {
   "cell_type": "code",
   "execution_count": 412,
   "metadata": {},
   "outputs": [
    {
     "name": "stdout",
     "output_type": "stream",
     "text": [
      "(110526, 36)\n"
     ]
    }
   ],
   "source": [
    "filename = 'data/no_shows_features.h5'\n",
    "df = pd.read_hdf(filename)\n",
    "print(df.shape)"
   ]
  },
  {
   "cell_type": "code",
   "execution_count": 413,
   "metadata": {},
   "outputs": [
    {
     "name": "stdout",
     "output_type": "stream",
     "text": [
      "<class 'pandas.core.frame.DataFrame'>\n",
      "Int64Index: 110526 entries, 0 to 110525\n",
      "Data columns (total 36 columns):\n",
      " #   Column                Non-Null Count   Dtype         \n",
      "---  ------                --------------   -----         \n",
      " 0   patient_id            110526 non-null  object        \n",
      " 1   appointment_id        110526 non-null  int64         \n",
      " 2   gender                110526 non-null  object        \n",
      " 3   scheduled_day         110526 non-null  datetime64[ns]\n",
      " 4   appointment_day       110526 non-null  datetime64[ns]\n",
      " 5   age                   110526 non-null  int64         \n",
      " 6   neighbourhood         110526 non-null  object        \n",
      " 7   scholarship           110526 non-null  int64         \n",
      " 8   hipertension          110526 non-null  int64         \n",
      " 9   diabetes              110526 non-null  int64         \n",
      " 10  alcoholism            110526 non-null  int64         \n",
      " 11  handicap              110526 non-null  category      \n",
      " 12  sms_received          110526 non-null  int64         \n",
      " 13  no_show               110526 non-null  object        \n",
      " 14  handicap_bin          110526 non-null  int64         \n",
      " 15  no_show_bin           110526 non-null  int64         \n",
      " 16  female                110526 non-null  int64         \n",
      " 17  scheduled_month       110526 non-null  int64         \n",
      " 18  scheduled_week        110526 non-null  int64         \n",
      " 19  scheduled_dom         110526 non-null  int64         \n",
      " 20  scheduled_dow         110526 non-null  category      \n",
      " 21  scheduled_hour        110526 non-null  int64         \n",
      " 22  scheduled_day_type    110526 non-null  object        \n",
      " 23  appointment_month     110526 non-null  int64         \n",
      " 24  appointment_week      110526 non-null  int64         \n",
      " 25  appointment_dom       110526 non-null  int64         \n",
      " 26  appointment_dow       110526 non-null  category      \n",
      " 27  appointment_day_type  110526 non-null  object        \n",
      " 28  wait_time             110526 non-null  int64         \n",
      " 29  duplicate             110526 non-null  float64       \n",
      " 30  duplicate_first       110526 non-null  float64       \n",
      " 31  duplicate_last        110526 non-null  float64       \n",
      " 32  full_duplicate        110526 non-null  float64       \n",
      " 33  num_visits            110526 non-null  int64         \n",
      " 34  no_show_last_visit    110526 non-null  float64       \n",
      " 35  recency               110526 non-null  int64         \n",
      "dtypes: category(3), datetime64[ns](2), float64(5), int64(20), object(6)\n",
      "memory usage: 29.0+ MB\n"
     ]
    }
   ],
   "source": [
    "df.info()"
   ]
  },
  {
   "cell_type": "markdown",
   "metadata": {},
   "source": [
    "## 2. Prepare Data\n",
    "***\n",
    "Main steps\n",
    "* get dummy variables where needed (note: we already encoded some such as gender during the eda)\n",
    "* select relevant columns for the model ('features')\n",
    "* train/test split"
   ]
  },
  {
   "cell_type": "code",
   "execution_count": 414,
   "metadata": {},
   "outputs": [],
   "source": [
    "# get dummies\n",
    "dummy_cols = ['neighbourhood','scheduled_day_type','appointment_day_type', 'scheduled_dow','appointment_dow'] \n",
    "df = pd.get_dummies(df, columns = dummy_cols, drop_first = True)"
   ]
  },
  {
   "cell_type": "code",
   "execution_count": 415,
   "metadata": {},
   "outputs": [],
   "source": [
    "# easier to select columns we do not want to user\n",
    "target = ['no_show_bin']\n",
    "not_used = ['patient_id','appointment_id','gender','scheduled_day','appointment_day','no_show']\n",
    "features = [col for col in df.columns if col not in (not_used+target)]"
   ]
  },
  {
   "cell_type": "markdown",
   "metadata": {},
   "source": [
    "> Random split of our dataset (2/3 vs. 1/3) "
   ]
  },
  {
   "cell_type": "code",
   "execution_count": 416,
   "metadata": {},
   "outputs": [],
   "source": [
    "# dplit\n",
    "X_train, X_test, y_train, y_test = train_test_split(df[features], df[target], test_size=0.33, random_state=42)"
   ]
  },
  {
   "cell_type": "code",
   "execution_count": 417,
   "metadata": {},
   "outputs": [
    {
     "data": {
      "text/plain": [
       "0.33000380001085716"
      ]
     },
     "execution_count": 417,
     "metadata": {},
     "output_type": "execute_result"
    }
   ],
   "source": [
    "# check\n",
    "X_test.shape[0]/df.shape[0]"
   ]
  },
  {
   "cell_type": "markdown",
   "metadata": {},
   "source": [
    "## 3. Initial Model\n",
    "***\n",
    "We're using a random forrest, some of the key benefits:\n",
    "* handles both continuous and discrete variables well\n",
    "* can filter out irrelevant variables & deal well with correlation\n",
    "* it is quite simple to optimise (base parameters in sklearn often work well)"
   ]
  },
  {
   "cell_type": "markdown",
   "metadata": {},
   "source": [
    "#### 3.1 train the model\n",
    "Base parameters:\n",
    "* n_estimators = 100 (#trees)\n",
    "* min_samples_split = 2 (samples required to split internal node)\n",
    "* min_samples_leaf = 1 (increase later as long as there is no accuracy loss)\n",
    "* max_depth = None (no limit other than min_samples x above)"
   ]
  },
  {
   "cell_type": "code",
   "execution_count": 418,
   "metadata": {},
   "outputs": [
    {
     "data": {
      "text/plain": [
       "RandomForestClassifier()"
      ]
     },
     "execution_count": 418,
     "metadata": {},
     "output_type": "execute_result"
    }
   ],
   "source": [
    "# train\n",
    "clf = RandomForestClassifier()\n",
    "clf.fit(X_train, np.ravel(y_train)) #ravel supresses warning but has no real effect..."
   ]
  },
  {
   "cell_type": "code",
   "execution_count": 419,
   "metadata": {},
   "outputs": [
    {
     "data": {
      "text/plain": [
       "0.9993247987900394"
      ]
     },
     "execution_count": 419,
     "metadata": {},
     "output_type": "execute_result"
    }
   ],
   "source": [
    "clf.score(X_train, y_train)"
   ]
  },
  {
   "cell_type": "code",
   "execution_count": 420,
   "metadata": {},
   "outputs": [
    {
     "data": {
      "text/plain": [
       "0.8084937215550804"
      ]
     },
     "execution_count": 420,
     "metadata": {},
     "output_type": "execute_result"
    }
   ],
   "source": [
    "clf.score(X_test, y_test)"
   ]
  },
  {
   "cell_type": "markdown",
   "metadata": {},
   "source": [
    "> We have overfitting (train_acc = 0.999 >> test_acc = 0.81), but still a good test accuracy (80.85%)! This value is a bit higher already than other kernels for this dataset on Kaggle (most in the 70% range), indicating that we have selected an appropriate model and features."
   ]
  },
  {
   "cell_type": "markdown",
   "metadata": {},
   "source": [
    "#### 3.2 Model performance"
   ]
  },
  {
   "cell_type": "code",
   "execution_count": 421,
   "metadata": {},
   "outputs": [
    {
     "data": {
      "text/html": [
       "<div>\n",
       "<style scoped>\n",
       "    .dataframe tbody tr th:only-of-type {\n",
       "        vertical-align: middle;\n",
       "    }\n",
       "\n",
       "    .dataframe tbody tr th {\n",
       "        vertical-align: top;\n",
       "    }\n",
       "\n",
       "    .dataframe thead th {\n",
       "        text-align: right;\n",
       "    }\n",
       "</style>\n",
       "<table border=\"1\" class=\"dataframe\">\n",
       "  <thead>\n",
       "    <tr style=\"text-align: right;\">\n",
       "      <th></th>\n",
       "      <th>base_model</th>\n",
       "    </tr>\n",
       "  </thead>\n",
       "  <tbody>\n",
       "    <tr>\n",
       "      <th>accuracy</th>\n",
       "      <td>0.808494</td>\n",
       "    </tr>\n",
       "    <tr>\n",
       "      <th>recall</th>\n",
       "      <td>0.156469</td>\n",
       "    </tr>\n",
       "    <tr>\n",
       "      <th>precision</th>\n",
       "      <td>0.572435</td>\n",
       "    </tr>\n",
       "    <tr>\n",
       "      <th>specificity</th>\n",
       "      <td>0.970891</td>\n",
       "    </tr>\n",
       "    <tr>\n",
       "      <th>f1-score</th>\n",
       "      <td>0.245762</td>\n",
       "    </tr>\n",
       "    <tr>\n",
       "      <th>AUC score</th>\n",
       "      <td>0.563680</td>\n",
       "    </tr>\n",
       "  </tbody>\n",
       "</table>\n",
       "</div>"
      ],
      "text/plain": [
       "             base_model\n",
       "accuracy       0.808494\n",
       "recall         0.156469\n",
       "precision      0.572435\n",
       "specificity    0.970891\n",
       "f1-score       0.245762\n",
       "AUC score      0.563680"
      ]
     },
     "execution_count": 421,
     "metadata": {},
     "output_type": "execute_result"
    }
   ],
   "source": [
    "base = analyse_result([clf, X_test], y_test, model = 'base_model')\n",
    "base"
   ]
  },
  {
   "cell_type": "code",
   "execution_count": 422,
   "metadata": {},
   "outputs": [
    {
     "data": {
      "text/plain": [
       "array([[28351,   850],\n",
       "       [ 6135,  1138]])"
      ]
     },
     "execution_count": 422,
     "metadata": {},
     "output_type": "execute_result"
    }
   ],
   "source": [
    "y_pred = clf.predict(X_test)\n",
    "confusion_matrix(y_test, y_pred)"
   ]
  },
  {
   "cell_type": "markdown",
   "metadata": {},
   "source": [
    "> Whereas we saw a good accuracy, here we see that the model struggles to correctly identify no-shows (recall = 0.15), making this model only slightly better than the naive approach (given the AUC score of 0.56)."
   ]
  },
  {
   "cell_type": "markdown",
   "metadata": {},
   "source": [
    "#### 3.3 feature importance"
   ]
  },
  {
   "cell_type": "code",
   "execution_count": 423,
   "metadata": {},
   "outputs": [
    {
     "data": {
      "text/html": [
       "<div>\n",
       "<style scoped>\n",
       "    .dataframe tbody tr th:only-of-type {\n",
       "        vertical-align: middle;\n",
       "    }\n",
       "\n",
       "    .dataframe tbody tr th {\n",
       "        vertical-align: top;\n",
       "    }\n",
       "\n",
       "    .dataframe thead th {\n",
       "        text-align: right;\n",
       "    }\n",
       "</style>\n",
       "<table border=\"1\" class=\"dataframe\">\n",
       "  <thead>\n",
       "    <tr style=\"text-align: right;\">\n",
       "      <th></th>\n",
       "      <th>feature</th>\n",
       "      <th>importance</th>\n",
       "    </tr>\n",
       "  </thead>\n",
       "  <tbody>\n",
       "    <tr>\n",
       "      <th>0</th>\n",
       "      <td>age</td>\n",
       "      <td>0.13333</td>\n",
       "    </tr>\n",
       "    <tr>\n",
       "      <th>1</th>\n",
       "      <td>wait_time</td>\n",
       "      <td>0.0918015</td>\n",
       "    </tr>\n",
       "    <tr>\n",
       "      <th>2</th>\n",
       "      <td>scheduled_hour</td>\n",
       "      <td>0.0828486</td>\n",
       "    </tr>\n",
       "    <tr>\n",
       "      <th>3</th>\n",
       "      <td>scheduled_dom</td>\n",
       "      <td>0.045438</td>\n",
       "    </tr>\n",
       "    <tr>\n",
       "      <th>4</th>\n",
       "      <td>recency</td>\n",
       "      <td>0.0430473</td>\n",
       "    </tr>\n",
       "  </tbody>\n",
       "</table>\n",
       "</div>"
      ],
      "text/plain": [
       "          feature importance\n",
       "0             age    0.13333\n",
       "1       wait_time  0.0918015\n",
       "2  scheduled_hour  0.0828486\n",
       "3   scheduled_dom   0.045438\n",
       "4         recency  0.0430473"
      ]
     },
     "execution_count": 423,
     "metadata": {},
     "output_type": "execute_result"
    }
   ],
   "source": [
    "f_imp = feature_importance(X_train, clf)\n",
    "f_imp.head()"
   ]
  },
  {
   "cell_type": "code",
   "execution_count": 424,
   "metadata": {},
   "outputs": [
    {
     "data": {
      "image/png": "[encoded data removed]",
      "text/plain": [
       "<Figure size 576x576 with 1 Axes>"
      ]
     },
     "metadata": {},
     "output_type": "display_data"
    }
   ],
   "source": [
    "feature_importance_plot(f_imp, cutoff = 0.005, figsize = (8,8))"
   ]
  },
  {
   "cell_type": "markdown",
   "metadata": {},
   "source": [
    "> As usual continuous variables (`age` and `wait_time`) are on top here. We see that mainly the neightborhoods seem less important, so let's see how we perform when we remove this."
   ]
  },
  {
   "cell_type": "markdown",
   "metadata": {},
   "source": [
    "We store models in the `models` folder so we don't need to retrain. Test AUC included in the name."
   ]
  },
  {
   "cell_type": "code",
   "execution_count": 625,
   "metadata": {},
   "outputs": [
    {
     "data": {
      "text/plain": [
       "['models/rf_base_05636.joblib']"
      ]
     },
     "execution_count": 625,
     "metadata": {},
     "output_type": "execute_result"
    }
   ],
   "source": [
    "# store model - test accuracy in filename\n",
    "dump(clf, 'models/rf_base_05636.joblib') "
   ]
  },
  {
   "cell_type": "markdown",
   "metadata": {},
   "source": [
    "#### 3.4 reduced features\n",
    "We'll take out the neighbourhood parameters as they've shown to be of little importance."
   ]
  },
  {
   "cell_type": "code",
   "execution_count": 626,
   "metadata": {},
   "outputs": [
    {
     "data": {
      "text/plain": [
       "RandomForestClassifier()"
      ]
     },
     "execution_count": 626,
     "metadata": {},
     "output_type": "execute_result"
    }
   ],
   "source": [
    "# train\n",
    "reduced_features = [f for f in features if f[:3] != 'nei']\n",
    "clf_red = RandomForestClassifier()\n",
    "clf_red.fit(X_train[reduced_features], np.ravel(y_train)) #ravel supresses warning but has no real effect..."
   ]
  },
  {
   "cell_type": "code",
   "execution_count": 627,
   "metadata": {},
   "outputs": [
    {
     "data": {
      "text/plain": [
       "0.9958812726192405"
      ]
     },
     "execution_count": 627,
     "metadata": {},
     "output_type": "execute_result"
    }
   ],
   "source": [
    "clf_red.score(X_train[reduced_features], y_train)"
   ]
  },
  {
   "cell_type": "code",
   "execution_count": 631,
   "metadata": {},
   "outputs": [
    {
     "data": {
      "text/html": [
       "<div>\n",
       "<style scoped>\n",
       "    .dataframe tbody tr th:only-of-type {\n",
       "        vertical-align: middle;\n",
       "    }\n",
       "\n",
       "    .dataframe tbody tr th {\n",
       "        vertical-align: top;\n",
       "    }\n",
       "\n",
       "    .dataframe thead th {\n",
       "        text-align: right;\n",
       "    }\n",
       "</style>\n",
       "<table border=\"1\" class=\"dataframe\">\n",
       "  <thead>\n",
       "    <tr style=\"text-align: right;\">\n",
       "      <th></th>\n",
       "      <th>base_model</th>\n",
       "      <th>reduced_model</th>\n",
       "    </tr>\n",
       "  </thead>\n",
       "  <tbody>\n",
       "    <tr>\n",
       "      <th>accuracy</th>\n",
       "      <td>0.808494</td>\n",
       "      <td>0.792153</td>\n",
       "    </tr>\n",
       "    <tr>\n",
       "      <th>recall</th>\n",
       "      <td>0.156469</td>\n",
       "      <td>0.189330</td>\n",
       "    </tr>\n",
       "    <tr>\n",
       "      <th>precision</th>\n",
       "      <td>0.572435</td>\n",
       "      <td>0.449706</td>\n",
       "    </tr>\n",
       "    <tr>\n",
       "      <th>specificity</th>\n",
       "      <td>0.970891</td>\n",
       "      <td>0.942296</td>\n",
       "    </tr>\n",
       "    <tr>\n",
       "      <th>f1-score</th>\n",
       "      <td>0.245762</td>\n",
       "      <td>0.266473</td>\n",
       "    </tr>\n",
       "    <tr>\n",
       "      <th>AUC score</th>\n",
       "      <td>0.563680</td>\n",
       "      <td>0.565813</td>\n",
       "    </tr>\n",
       "  </tbody>\n",
       "</table>\n",
       "</div>"
      ],
      "text/plain": [
       "             base_model  reduced_model\n",
       "accuracy       0.808494       0.792153\n",
       "recall         0.156469       0.189330\n",
       "precision      0.572435       0.449706\n",
       "specificity    0.970891       0.942296\n",
       "f1-score       0.245762       0.266473\n",
       "AUC score      0.563680       0.565813"
      ]
     },
     "execution_count": 631,
     "metadata": {},
     "output_type": "execute_result"
    }
   ],
   "source": [
    "red = analyse_result([clf_red, X_test[reduced_features]], y_test, model = 'reduced_model')\n",
    "pd.concat([base,red], axis = 1)"
   ]
  },
  {
   "cell_type": "code",
   "execution_count": 629,
   "metadata": {},
   "outputs": [
    {
     "data": {
      "text/plain": [
       "array([[27516,  1685],\n",
       "       [ 5896,  1377]])"
      ]
     },
     "execution_count": 629,
     "metadata": {},
     "output_type": "execute_result"
    }
   ],
   "source": [
    "y_pred = clf_red.predict(X_test[reduced_features])\n",
    "confusion_matrix(y_test, y_pred)"
   ]
  },
  {
   "cell_type": "markdown",
   "metadata": {},
   "source": [
    "> Minor drop in accuracy, but a recall improvement (overall f1-score and AUC-score improvement): removing the neightbourhoods does not hurt the performance of our model"
   ]
  },
  {
   "cell_type": "code",
   "execution_count": 632,
   "metadata": {},
   "outputs": [
    {
     "data": {
      "image/png": "[encoded data removed]",
      "text/plain": [
       "<Figure size 576x576 with 1 Axes>"
      ]
     },
     "metadata": {},
     "output_type": "display_data"
    }
   ],
   "source": [
    "f_imp = feature_importance(X_train[reduced_features], clf_red)\n",
    "feature_importance_plot(f_imp, cutoff = 0.005, figsize = (8,8))"
   ]
  },
  {
   "cell_type": "markdown",
   "metadata": {},
   "source": [
    "> Note: the main difference in feature importance is the drop for 'scheduled_dom'."
   ]
  },
  {
   "cell_type": "code",
   "execution_count": 633,
   "metadata": {},
   "outputs": [
    {
     "data": {
      "text/plain": [
       "['models/rf_red_05658.joblib']"
      ]
     },
     "execution_count": 633,
     "metadata": {},
     "output_type": "execute_result"
    }
   ],
   "source": [
    "# store model - test accuracy in filename\n",
    "dump(clf_red, 'models/rf_red_05658.joblib') "
   ]
  },
  {
   "cell_type": "markdown",
   "metadata": {},
   "source": [
    "## 4. Parameter tuning\n",
    "***\n",
    "We're a good way up with 80% accuracy, but, we've also seen some issues:\n",
    "* Firstly, we are overfitting our model (train_acc ~ 1 >> test_acc) \n",
    "* Our model has a very poor recall (and hence f1-score), caused by the imbalance in our classes.\n",
    "\n",
    "We can run some quick GridSeaches to try to optimise our hyperparamaters.\n",
    "* Random Hyperparameter Search on a wide grid of hyperparameters\n",
    "* Grid Search, using a narrow range around the hyperparameters found via the Random Search\n",
    "\n",
    "*Note: from experience, the Cross Validation in these grid-searches often helps with overfitting.*"
   ]
  },
  {
   "cell_type": "markdown",
   "metadata": {},
   "source": [
    "#### 4.1 Randomised Grid Search (hyperparamter tuning)\n",
    "We run the random grid search for the parameters that are know to be the most important for Random Forests. \n",
    "\n",
    "A specific addition that is not one of the most common hyperparameters to tune is the `class_weight`. We'll try some variations for this parameters as well since we've seen a negative impact from the class imbalance (20% no_shows).\n"
   ]
  },
  {
   "cell_type": "code",
   "execution_count": 634,
   "metadata": {},
   "outputs": [
    {
     "data": {
      "text/plain": [
       "['accuracy',\n",
       " 'adjusted_mutual_info_score',\n",
       " 'adjusted_rand_score',\n",
       " 'average_precision',\n",
       " 'balanced_accuracy']"
      ]
     },
     "execution_count": 634,
     "metadata": {},
     "output_type": "execute_result"
    }
   ],
   "source": [
    "# what can we use for scoring!?\n",
    "sorted(SCORERS.keys())[:5]"
   ]
  },
  {
   "cell_type": "markdown",
   "metadata": {},
   "source": [
    "We've also seen that our AUC and F1 score are very low, meaning we do not capture the patterns in our data properly. Focussing on accuracy alone here is not optimal; for example: if we always predict '0' for no_show (naive), we would also get 80% accuracy. Our approach to tackle this is to use another metric for scoring in our grid-search. We'll try 'F1' and 'AUC'.\n",
    "\n",
    "> Note: this has been done on separate iterations on the cell below. We found 'F1' score to work best, actually optimised AUC better as well."
   ]
  },
  {
   "cell_type": "code",
   "execution_count": 635,
   "metadata": {},
   "outputs": [],
   "source": [
    "# parameters to check\n",
    "param_grid = {\n",
    "    'bootstrap': [True],\n",
    "    'max_depth': [90, 100, 110, 120, None],\n",
    "    'max_features': [3, 5, 10],\n",
    "    'min_samples_leaf': [5, 10, 15],\n",
    "    'min_samples_split': [3, 5, 8, 10],\n",
    "    'n_estimators': [500, 600, 700, 800, 1000],\n",
    "    'class_weight' : ['balanced', 'balanced_subsample', {0:1, 1:2}, {0:1, 1:3}]}\n",
    "\n",
    "# Create a based model\n",
    "rf = RandomForestClassifier()\n",
    "\n",
    "# Instantiate the grid search model\n",
    "grid_search_random = RandomizedSearchCV(estimator = rf, param_distributions = param_grid, \n",
    "                                   n_iter = 100, cv = 3, verbose=2, random_state=42, \n",
    "                                   n_jobs = -1, scoring = 'f1')"
   ]
  },
  {
   "cell_type": "code",
   "execution_count": 636,
   "metadata": {},
   "outputs": [],
   "source": [
    "# switch to ensure we don't run this every time\n",
    "random_search = False\n",
    "if random_search:\n",
    "    print('started search at: ' + datetime.now().strftime(\"%H:%M:%S\"))\n",
    "    grid_search_random.fit(X_train[reduced_features], np.ravel(y_train))\n"
   ]
  },
  {
   "cell_type": "code",
   "execution_count": 637,
   "metadata": {},
   "outputs": [],
   "source": [
    "if random_search:\n",
    "    print(grid_search_random.best_params_)"
   ]
  },
  {
   "cell_type": "markdown",
   "metadata": {},
   "source": [
    "#### 4.2 Run Random optimised parameters\n",
    "***"
   ]
  },
  {
   "cell_type": "code",
   "execution_count": 638,
   "metadata": {},
   "outputs": [
    {
     "data": {
      "text/plain": [
       "RandomForestClassifier(class_weight='balanced', max_depth=100, max_features=5,\n",
       "                       min_samples_leaf=10, min_samples_split=8,\n",
       "                       n_estimators=500)"
      ]
     },
     "execution_count": 638,
     "metadata": {},
     "output_type": "execute_result"
    }
   ],
   "source": [
    "# train\n",
    "clf_rnd = RandomForestClassifier(n_estimators = 500,\n",
    "                                 min_samples_split = 8,\n",
    "                                 min_samples_leaf = 10,\n",
    "                                 max_features = 5,\n",
    "                                 max_depth = 100,\n",
    "                                 bootstrap = True, \n",
    "                                 class_weight = 'balanced')\n",
    "clf_rnd.fit(X_train[reduced_features], np.ravel(y_train))"
   ]
  },
  {
   "cell_type": "code",
   "execution_count": 639,
   "metadata": {},
   "outputs": [
    {
     "data": {
      "text/plain": [
       "0.7279479284826879"
      ]
     },
     "execution_count": 639,
     "metadata": {},
     "output_type": "execute_result"
    }
   ],
   "source": [
    "clf_rnd.score(X_train[reduced_features], y_train)"
   ]
  },
  {
   "cell_type": "code",
   "execution_count": 640,
   "metadata": {},
   "outputs": [
    {
     "data": {
      "text/plain": [
       "0.674124033558151"
      ]
     },
     "execution_count": 640,
     "metadata": {},
     "output_type": "execute_result"
    }
   ],
   "source": [
    "clf_rnd.score(X_test[reduced_features], y_test)"
   ]
  },
  {
   "cell_type": "code",
   "execution_count": 641,
   "metadata": {},
   "outputs": [
    {
     "data": {
      "text/html": [
       "<div>\n",
       "<style scoped>\n",
       "    .dataframe tbody tr th:only-of-type {\n",
       "        vertical-align: middle;\n",
       "    }\n",
       "\n",
       "    .dataframe tbody tr th {\n",
       "        vertical-align: top;\n",
       "    }\n",
       "\n",
       "    .dataframe thead th {\n",
       "        text-align: right;\n",
       "    }\n",
       "</style>\n",
       "<table border=\"1\" class=\"dataframe\">\n",
       "  <thead>\n",
       "    <tr style=\"text-align: right;\">\n",
       "      <th></th>\n",
       "      <th>base_model</th>\n",
       "      <th>reduced_model</th>\n",
       "      <th>random_optimised_model</th>\n",
       "    </tr>\n",
       "  </thead>\n",
       "  <tbody>\n",
       "    <tr>\n",
       "      <th>accuracy</th>\n",
       "      <td>0.808494</td>\n",
       "      <td>0.792153</td>\n",
       "      <td>0.674124</td>\n",
       "    </tr>\n",
       "    <tr>\n",
       "      <th>recall</th>\n",
       "      <td>0.156469</td>\n",
       "      <td>0.189330</td>\n",
       "      <td>0.718548</td>\n",
       "    </tr>\n",
       "    <tr>\n",
       "      <th>precision</th>\n",
       "      <td>0.572435</td>\n",
       "      <td>0.449706</td>\n",
       "      <td>0.346897</td>\n",
       "    </tr>\n",
       "    <tr>\n",
       "      <th>specificity</th>\n",
       "      <td>0.970891</td>\n",
       "      <td>0.942296</td>\n",
       "      <td>0.663059</td>\n",
       "    </tr>\n",
       "    <tr>\n",
       "      <th>f1-score</th>\n",
       "      <td>0.245762</td>\n",
       "      <td>0.266473</td>\n",
       "      <td>0.467902</td>\n",
       "    </tr>\n",
       "    <tr>\n",
       "      <th>AUC score</th>\n",
       "      <td>0.563680</td>\n",
       "      <td>0.565813</td>\n",
       "      <td>0.690804</td>\n",
       "    </tr>\n",
       "  </tbody>\n",
       "</table>\n",
       "</div>"
      ],
      "text/plain": [
       "             base_model  reduced_model  random_optimised_model\n",
       "accuracy       0.808494       0.792153                0.674124\n",
       "recall         0.156469       0.189330                0.718548\n",
       "precision      0.572435       0.449706                0.346897\n",
       "specificity    0.970891       0.942296                0.663059\n",
       "f1-score       0.245762       0.266473                0.467902\n",
       "AUC score      0.563680       0.565813                0.690804"
      ]
     },
     "execution_count": 641,
     "metadata": {},
     "output_type": "execute_result"
    }
   ],
   "source": [
    "rnd = analyse_result([clf_rnd, X_test[reduced_features]], y_test, model = 'random_optimised_model')\n",
    "pd.concat([base, red, rnd], axis = 1)"
   ]
  },
  {
   "cell_type": "markdown",
   "metadata": {},
   "source": [
    "> okay, so our accuracy has dropped to a still respectable 67%, but our AUC is up to 69% and f1-score is at 47% (recall at 72%). That shows some good progress!\n",
    "\n",
    "> also note how we've substantially reduced overfitting!"
   ]
  },
  {
   "cell_type": "code",
   "execution_count": 643,
   "metadata": {},
   "outputs": [
    {
     "data": {
      "text/html": [
       "<div>\n",
       "<style scoped>\n",
       "    .dataframe tbody tr th:only-of-type {\n",
       "        vertical-align: middle;\n",
       "    }\n",
       "\n",
       "    .dataframe tbody tr th {\n",
       "        vertical-align: top;\n",
       "    }\n",
       "\n",
       "    .dataframe thead th {\n",
       "        text-align: right;\n",
       "    }\n",
       "</style>\n",
       "<table border=\"1\" class=\"dataframe\">\n",
       "  <thead>\n",
       "    <tr style=\"text-align: right;\">\n",
       "      <th></th>\n",
       "      <th>feature</th>\n",
       "      <th>importance</th>\n",
       "    </tr>\n",
       "  </thead>\n",
       "  <tbody>\n",
       "    <tr>\n",
       "      <th>0</th>\n",
       "      <td>wait_time</td>\n",
       "      <td>0.266649</td>\n",
       "    </tr>\n",
       "    <tr>\n",
       "      <th>1</th>\n",
       "      <td>age</td>\n",
       "      <td>0.107534</td>\n",
       "    </tr>\n",
       "    <tr>\n",
       "      <th>2</th>\n",
       "      <td>scheduled_week</td>\n",
       "      <td>0.0703675</td>\n",
       "    </tr>\n",
       "    <tr>\n",
       "      <th>3</th>\n",
       "      <td>scheduled_hour</td>\n",
       "      <td>0.0585386</td>\n",
       "    </tr>\n",
       "    <tr>\n",
       "      <th>4</th>\n",
       "      <td>scheduled_dom</td>\n",
       "      <td>0.0547933</td>\n",
       "    </tr>\n",
       "  </tbody>\n",
       "</table>\n",
       "</div>"
      ],
      "text/plain": [
       "          feature importance\n",
       "0       wait_time   0.266649\n",
       "1             age   0.107534\n",
       "2  scheduled_week  0.0703675\n",
       "3  scheduled_hour  0.0585386\n",
       "4   scheduled_dom  0.0547933"
      ]
     },
     "execution_count": 643,
     "metadata": {},
     "output_type": "execute_result"
    }
   ],
   "source": [
    "f_imp = feature_importance(X_train[reduced_features], clf_rnd)\n",
    "f_imp.head()"
   ]
  },
  {
   "cell_type": "code",
   "execution_count": 644,
   "metadata": {},
   "outputs": [
    {
     "data": {
      "image/png": "[encoded data removed]",
      "text/plain": [
       "<Figure size 576x576 with 1 Axes>"
      ]
     },
     "metadata": {},
     "output_type": "display_data"
    }
   ],
   "source": [
    "feature_importance_plot(f_imp, cutoff = 0.002, figsize = (8,8))"
   ]
  },
  {
   "cell_type": "markdown",
   "metadata": {},
   "source": [
    "> Very interesting to see here is that in our new model, the `wait_time` has jumped up and surpassed `age` as most important feature.\n",
    "\n",
    "> Looking at the ROC curves for both the reduced and optimised plots, we can clearly see our improvement."
   ]
  },
  {
   "cell_type": "code",
   "execution_count": 646,
   "metadata": {},
   "outputs": [
    {
     "data": {
      "image/png": "[encoded data removed]",
      "text/plain": [
       "<Figure size 432x288 with 1 Axes>"
      ]
     },
     "metadata": {},
     "output_type": "display_data"
    }
   ],
   "source": [
    "# note: we cannot include our earlier model as it has more features\n",
    "roc_curve_plot([clf_red, clf_rnd], X_test[reduced_features], y_test, ['reduced','optimised'])"
   ]
  },
  {
   "cell_type": "markdown",
   "metadata": {},
   "source": [
    "> **NB: We expect the reduced model to be substantially closer to the dashed line (naive). Double check!**"
   ]
  },
  {
   "cell_type": "code",
   "execution_count": 652,
   "metadata": {},
   "outputs": [
    {
     "data": {
      "text/plain": [
       "['models/rf_rnd_069.joblib']"
      ]
     },
     "execution_count": 652,
     "metadata": {},
     "output_type": "execute_result"
    }
   ],
   "source": [
    "# store model - test accuracy in filename\n",
    "dump(clf_rnd, 'models/rf_rnd_069.joblib') "
   ]
  },
  {
   "cell_type": "markdown",
   "metadata": {},
   "source": [
    "#### 4.3 Model Size (Trees)\n",
    "Larger models (more trees) perform better, but at the cost of increased processing time. Taking our current best parameters, we take a closer look at this behavior and try to find an optimal parameter for estimators (number of trees)- taking into account that processing time increases with this parameters.\n",
    "\n",
    "> Note: we will use this model intensively for Partial Dependence Plots, hence a smaller model would benefit us. "
   ]
  },
  {
   "cell_type": "code",
   "execution_count": 578,
   "metadata": {},
   "outputs": [],
   "source": [
    "estimators = [5, 10, 20, 50, 100, 200, 300, 400, 500, 600, 700, 800, 900, 1000]\n",
    "f1 = []\n",
    "auc = []\n",
    "acc = []\n",
    "\n",
    "for est in estimators:\n",
    "    clf_tmp = RandomForestClassifier(n_estimators = est,\n",
    "                                     min_samples_split = 8,\n",
    "                                     min_samples_leaf = 10,\n",
    "                                     max_features = 5,\n",
    "                                     max_depth = 100,\n",
    "                                     bootstrap = True, \n",
    "                                     class_weight = 'balanced')\n",
    "    # result\n",
    "    clf_tmp.fit(X_train[reduced_features], np.ravel(y_train))\n",
    "    y_pred = clf_tmp.predict(X_test[reduced_features])\n",
    "    \n",
    "    # calculate and store metrics\n",
    "    f1.append(f1_score(y_test, y_pred))\n",
    "    auc.append(roc_auc_score(y_test, y_pred))\n",
    "    acc.append(accuracy_score(y_test, y_pred))"
   ]
  },
  {
   "cell_type": "code",
   "execution_count": 580,
   "metadata": {},
   "outputs": [
    {
     "data": {
      "image/png": "[encoded data removed]",
      "text/plain": [
       "<Figure size 864x432 with 2 Axes>"
      ]
     },
     "metadata": {},
     "output_type": "display_data"
    }
   ],
   "source": [
    "# plot the result\n",
    "fig, ax = plt.subplots(1,2, figsize = (12,6))\n",
    "ax[0].plot(estimators, auc, label = 'AUC')\n",
    "ax[0].plot(estimators, acc, label = 'accuracy')\n",
    "ax[0].legend()\n",
    "ax[0].set_xlabel('n_estimators (trees)')\n",
    "ax[0].set_ylabel('metric score')\n",
    "\n",
    "ax[1].plot(estimators, f1, label = 'f1')\n",
    "ax[1].legend()\n",
    "ax[1].set_xlabel('n_estimators (trees)')\n",
    "ax[1].set_ylabel('metric score');"
   ]
  },
  {
   "cell_type": "markdown",
   "metadata": {},
   "source": [
    "> We can see a clear maximum at for 600 estimators (trees). However, this is not that much better than 100 trees, where we find a local maximum. Let's see if we can optimise against the latter."
   ]
  },
  {
   "cell_type": "markdown",
   "metadata": {},
   "source": [
    "#### 4.4 Grid Search on a narrower range\n",
    "We take the optimal parameters from the Random Search, and the `n_estimators` parameters determined at 100 above and perform the final Grid Search.\n",
    "\n",
    "Finally, we triend some manual variations. "
   ]
  },
  {
   "cell_type": "code",
   "execution_count": 596,
   "metadata": {},
   "outputs": [],
   "source": [
    "# parameter grid based on random search & fix n_estimators from above\n",
    "param_grid = {\n",
    "    'bootstrap': [True],\n",
    "    'max_depth': [80, 90, 95],\n",
    "    'max_features': [3, 4, 5, 6, 7],\n",
    "    'min_samples_leaf': [8, 9, 10, 11, 12],\n",
    "    'min_samples_split': [8, 9, 10, 11 , 12],\n",
    "    'n_estimators': [100],\n",
    "    'class_weight' : ['balanced']}\n",
    "\n",
    "# Create a based model\n",
    "rf = RandomForestClassifier()\n",
    "\n",
    "# Instantiate the grid search model\n",
    "grid_search_cv = GridSearchCV(estimator = rf, param_grid = param_grid, \n",
    "                              cv = 3, n_jobs = -1, verbose = 2) #, scoring = 'f1')\n"
   ]
  },
  {
   "cell_type": "code",
   "execution_count": 606,
   "metadata": {},
   "outputs": [],
   "source": [
    "# switch to ensure we don't run this every time\n",
    "grid_search = False\n",
    "if grid_search:\n",
    "    print('started search at: ' + datetime.now().strftime(\"%H:%M:%S\"))\n",
    "    grid_search_cv.fit(X_train[reduced_features], np.ravel(y_train))\n"
   ]
  },
  {
   "cell_type": "code",
   "execution_count": 607,
   "metadata": {},
   "outputs": [],
   "source": [
    "if grid_search:\n",
    "    print(grid_search_cv.best_params_)"
   ]
  },
  {
   "cell_type": "markdown",
   "metadata": {},
   "source": [
    "#### 4.5 Run optimised Model"
   ]
  },
  {
   "cell_type": "code",
   "execution_count": 647,
   "metadata": {},
   "outputs": [
    {
     "data": {
      "text/plain": [
       "RandomForestClassifier(class_weight='balanced_subsample', max_depth=95,\n",
       "                       max_features=7, min_samples_leaf=8,\n",
       "                       min_samples_split=10)"
      ]
     },
     "execution_count": 647,
     "metadata": {},
     "output_type": "execute_result"
    }
   ],
   "source": [
    "# train\n",
    "clf_opt = RandomForestClassifier(n_estimators = 100,\n",
    "                                 min_samples_split = 10,\n",
    "                                 min_samples_leaf = 8,\n",
    "                                 max_features = 7,\n",
    "                                 max_depth = 95,\n",
    "                                 bootstrap = True, \n",
    "                                 class_weight = 'balanced_subsample') \n",
    "clf_opt.fit(X_train[reduced_features], np.ravel(y_train))"
   ]
  },
  {
   "cell_type": "code",
   "execution_count": 648,
   "metadata": {},
   "outputs": [
    {
     "data": {
      "text/plain": [
       "0.7833279317236537"
      ]
     },
     "execution_count": 648,
     "metadata": {},
     "output_type": "execute_result"
    }
   ],
   "source": [
    "clf_opt.score(X_train[reduced_features], y_train)"
   ]
  },
  {
   "cell_type": "code",
   "execution_count": 649,
   "metadata": {},
   "outputs": [
    {
     "data": {
      "text/plain": [
       "0.6994023139770795"
      ]
     },
     "execution_count": 649,
     "metadata": {},
     "output_type": "execute_result"
    }
   ],
   "source": [
    "clf_opt.score(X_test[reduced_features], y_test)"
   ]
  },
  {
   "cell_type": "code",
   "execution_count": 650,
   "metadata": {},
   "outputs": [
    {
     "data": {
      "text/html": [
       "<div>\n",
       "<style scoped>\n",
       "    .dataframe tbody tr th:only-of-type {\n",
       "        vertical-align: middle;\n",
       "    }\n",
       "\n",
       "    .dataframe tbody tr th {\n",
       "        vertical-align: top;\n",
       "    }\n",
       "\n",
       "    .dataframe thead th {\n",
       "        text-align: right;\n",
       "    }\n",
       "</style>\n",
       "<table border=\"1\" class=\"dataframe\">\n",
       "  <thead>\n",
       "    <tr style=\"text-align: right;\">\n",
       "      <th></th>\n",
       "      <th>base_model</th>\n",
       "      <th>reduced_model</th>\n",
       "      <th>random_optimised_model</th>\n",
       "      <th>grid_optimised_model</th>\n",
       "    </tr>\n",
       "  </thead>\n",
       "  <tbody>\n",
       "    <tr>\n",
       "      <th>accuracy</th>\n",
       "      <td>0.808494</td>\n",
       "      <td>0.792153</td>\n",
       "      <td>0.674124</td>\n",
       "      <td>0.699402</td>\n",
       "    </tr>\n",
       "    <tr>\n",
       "      <th>recall</th>\n",
       "      <td>0.156469</td>\n",
       "      <td>0.189330</td>\n",
       "      <td>0.718548</td>\n",
       "      <td>0.651451</td>\n",
       "    </tr>\n",
       "    <tr>\n",
       "      <th>precision</th>\n",
       "      <td>0.572435</td>\n",
       "      <td>0.449706</td>\n",
       "      <td>0.346897</td>\n",
       "      <td>0.359839</td>\n",
       "    </tr>\n",
       "    <tr>\n",
       "      <th>specificity</th>\n",
       "      <td>0.970891</td>\n",
       "      <td>0.942296</td>\n",
       "      <td>0.663059</td>\n",
       "      <td>0.711346</td>\n",
       "    </tr>\n",
       "    <tr>\n",
       "      <th>f1-score</th>\n",
       "      <td>0.245762</td>\n",
       "      <td>0.266473</td>\n",
       "      <td>0.467902</td>\n",
       "      <td>0.463601</td>\n",
       "    </tr>\n",
       "    <tr>\n",
       "      <th>AUC score</th>\n",
       "      <td>0.563680</td>\n",
       "      <td>0.565813</td>\n",
       "      <td>0.690804</td>\n",
       "      <td>0.681398</td>\n",
       "    </tr>\n",
       "  </tbody>\n",
       "</table>\n",
       "</div>"
      ],
      "text/plain": [
       "             base_model  reduced_model  random_optimised_model  \\\n",
       "accuracy       0.808494       0.792153                0.674124   \n",
       "recall         0.156469       0.189330                0.718548   \n",
       "precision      0.572435       0.449706                0.346897   \n",
       "specificity    0.970891       0.942296                0.663059   \n",
       "f1-score       0.245762       0.266473                0.467902   \n",
       "AUC score      0.563680       0.565813                0.690804   \n",
       "\n",
       "             grid_optimised_model  \n",
       "accuracy                 0.699402  \n",
       "recall                   0.651451  \n",
       "precision                0.359839  \n",
       "specificity              0.711346  \n",
       "f1-score                 0.463601  \n",
       "AUC score                0.681398  "
      ]
     },
     "execution_count": 650,
     "metadata": {},
     "output_type": "execute_result"
    }
   ],
   "source": [
    "opt = analyse_result([clf_opt, X_test[reduced_features]], y_test, model = 'grid_optimised_model')\n",
    "pd.concat([base, red, rnd, opt], axis = 1)"
   ]
  },
  {
   "cell_type": "code",
   "execution_count": 651,
   "metadata": {},
   "outputs": [
    {
     "data": {
      "text/plain": [
       "array([[20772,  8429],\n",
       "       [ 2535,  4738]])"
      ]
     },
     "execution_count": 651,
     "metadata": {},
     "output_type": "execute_result"
    }
   ],
   "source": [
    "y_pred = clf_opt.predict(X_test[reduced_features])\n",
    "confusion_matrix(y_test, y_pred)"
   ]
  },
  {
   "cell_type": "markdown",
   "metadata": {},
   "source": [
    "> We've balanced back to accuracy a bit and see AUC score deteriorate a bit as well. Also, the difference between the train and test_accuracy is back a bit (likely due to the smaller number of trees)."
   ]
  },
  {
   "cell_type": "code",
   "execution_count": 653,
   "metadata": {},
   "outputs": [
    {
     "data": {
      "text/plain": [
       "['models/rf_opt_06814.joblib']"
      ]
     },
     "execution_count": 653,
     "metadata": {},
     "output_type": "execute_result"
    }
   ],
   "source": [
    "# store model - test accuracy in filename\n",
    "dump(clf_opt, 'models/rf_opt_06814.joblib') "
   ]
  },
  {
   "cell_type": "code",
   "execution_count": null,
   "metadata": {},
   "outputs": [],
   "source": []
  },
  {
   "cell_type": "markdown",
   "metadata": {},
   "source": [
    "## 5. conclusion\n",
    "***"
   ]
  },
  {
   "cell_type": "markdown",
   "metadata": {},
   "source": [
    "#### 5.1 store data\n",
    "We've stored our models for easy use next time - and in another notebook. Let's also store our pre-processed dataframe, ready to use for this model."
   ]
  },
  {
   "cell_type": "code",
   "execution_count": 654,
   "metadata": {},
   "outputs": [],
   "source": [
    "# store the input data for the model\n",
    "filename = 'data/no_shows_model.h5'\n",
    "df_out = pd.concat([df[reduced_features], df[target]], axis = 1)\n",
    "df_out.to_hdf(filename, key = 'no_shows', format = 'table')"
   ]
  },
  {
   "cell_type": "code",
   "execution_count": 655,
   "metadata": {},
   "outputs": [
    {
     "name": "stdout",
     "output_type": "stream",
     "text": [
      "(110526, 39)\n"
     ]
    }
   ],
   "source": [
    "# check the file\n",
    "df_check = pd.read_hdf(filename)\n",
    "print(df_check.shape)"
   ]
  },
  {
   "cell_type": "code",
   "execution_count": null,
   "metadata": {},
   "outputs": [],
   "source": []
  },
  {
   "cell_type": "markdown",
   "metadata": {},
   "source": [
    "#### 5.2 notes\n",
    "We've ended up with a model with an AUC of 68% which seems to capture the patterns in our data well. Accuracy is at 70%, which is good, as wel optimised more for AUC, allowing the patterns to be captured better for the Partial Dependence plots in the next phase.\n",
    "\n",
    "We're confident in the feature's we've generated during the EDA and can even see the result as the wait-time came out as most important feature.\n",
    "\n",
    "It would be interesting to try this procedure with XGBoost as well, and to look closer at other optimisations (i.e. what if we fully optimise on accuracy) in a later stage."
   ]
  }
 ],
 "metadata": {
  "kernelspec": {
   "display_name": "Python 3",
   "language": "python",
   "name": "python3"
  },
  "language_info": {
   "codemirror_mode": {
    "name": "ipython",
    "version": 3
   },
   "file_extension": ".py",
   "mimetype": "text/x-python",
   "name": "python",
   "nbconvert_exporter": "python",
   "pygments_lexer": "ipython3",
   "version": "3.7.3"
  }
 },
 "nbformat": 4,
 "nbformat_minor": 4
}
