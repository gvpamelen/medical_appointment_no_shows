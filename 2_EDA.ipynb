{
 "cells": [
  {
   "cell_type": "markdown",
   "metadata": {},
   "source": [
    "# EDA & Feature Engineering\n",
    "***\n",
    "Having cleaned data of the no-shows at doctor's appointments, we'll perform an EDA on this dataset to improve our understanding. As we aim to build a model to predict no-shows, we'll keep this brief and dedicate this partly to feature engineering.\n",
    "\n",
    "**The ultimate goal is to understand if a user is coming to visit, given available data.**"
   ]
  },
  {
   "cell_type": "code",
   "execution_count": 1,
   "metadata": {},
   "outputs": [],
   "source": [
    "import numpy as np\n",
    "import pandas as pd\n",
    "import tables\n",
    "\n",
    "import matplotlib.pyplot as plt\n",
    "%matplotlib inline\n",
    "\n",
    "import seaborn as sns\n",
    "sns.set()"
   ]
  },
  {
   "cell_type": "markdown",
   "metadata": {},
   "source": [
    "## 1. Import data\n",
    "***"
   ]
  },
  {
   "cell_type": "code",
   "execution_count": 2,
   "metadata": {},
   "outputs": [
    {
     "name": "stdout",
     "output_type": "stream",
     "text": [
      "<class 'pandas.core.frame.DataFrame'>\n",
      "Int64Index: 110526 entries, 0 to 110526\n",
      "Data columns (total 15 columns):\n",
      " #   Column           Non-Null Count   Dtype         \n",
      "---  ------           --------------   -----         \n",
      " 0   patient_id       110526 non-null  object        \n",
      " 1   appointment_id   110526 non-null  int64         \n",
      " 2   gender           110526 non-null  object        \n",
      " 3   scheduled_day    110526 non-null  datetime64[ns]\n",
      " 4   appointment_day  110526 non-null  datetime64[ns]\n",
      " 5   age              110526 non-null  int64         \n",
      " 6   neighbourhood    110526 non-null  object        \n",
      " 7   scholarship      110526 non-null  int64         \n",
      " 8   hipertension     110526 non-null  int64         \n",
      " 9   diabetes         110526 non-null  int64         \n",
      " 10  alcoholism       110526 non-null  int64         \n",
      " 11  handicap         110526 non-null  category      \n",
      " 12  sms_received     110526 non-null  int64         \n",
      " 13  no_show          110526 non-null  object        \n",
      " 14  handicap_bin     110526 non-null  int64         \n",
      "dtypes: category(1), datetime64[ns](2), int64(8), object(4)\n",
      "memory usage: 12.8+ MB\n"
     ]
    }
   ],
   "source": [
    "df = pd.read_hdf('data/no_shows_clean.h5', key='no_shows')\n",
    "df.info()"
   ]
  },
  {
   "cell_type": "code",
   "execution_count": 3,
   "metadata": {},
   "outputs": [
    {
     "data": {
      "text/html": [
       "<div>\n",
       "<style scoped>\n",
       "    .dataframe tbody tr th:only-of-type {\n",
       "        vertical-align: middle;\n",
       "    }\n",
       "\n",
       "    .dataframe tbody tr th {\n",
       "        vertical-align: top;\n",
       "    }\n",
       "\n",
       "    .dataframe thead th {\n",
       "        text-align: right;\n",
       "    }\n",
       "</style>\n",
       "<table border=\"1\" class=\"dataframe\">\n",
       "  <thead>\n",
       "    <tr style=\"text-align: right;\">\n",
       "      <th></th>\n",
       "      <th>patient_id</th>\n",
       "      <th>appointment_id</th>\n",
       "      <th>gender</th>\n",
       "      <th>scheduled_day</th>\n",
       "      <th>appointment_day</th>\n",
       "      <th>age</th>\n",
       "      <th>neighbourhood</th>\n",
       "      <th>scholarship</th>\n",
       "      <th>hipertension</th>\n",
       "      <th>diabetes</th>\n",
       "      <th>alcoholism</th>\n",
       "      <th>handicap</th>\n",
       "      <th>sms_received</th>\n",
       "      <th>no_show</th>\n",
       "      <th>handicap_bin</th>\n",
       "    </tr>\n",
       "  </thead>\n",
       "  <tbody>\n",
       "    <tr>\n",
       "      <th>0</th>\n",
       "      <td>29872499824296</td>\n",
       "      <td>5642903</td>\n",
       "      <td>F</td>\n",
       "      <td>2016-04-29 18:38:08</td>\n",
       "      <td>2016-04-29</td>\n",
       "      <td>62</td>\n",
       "      <td>JARDIM DA PENHA</td>\n",
       "      <td>0</td>\n",
       "      <td>1</td>\n",
       "      <td>0</td>\n",
       "      <td>0</td>\n",
       "      <td>0</td>\n",
       "      <td>0</td>\n",
       "      <td>No</td>\n",
       "      <td>0</td>\n",
       "    </tr>\n",
       "    <tr>\n",
       "      <th>1</th>\n",
       "      <td>558997776694438</td>\n",
       "      <td>5642503</td>\n",
       "      <td>M</td>\n",
       "      <td>2016-04-29 16:08:27</td>\n",
       "      <td>2016-04-29</td>\n",
       "      <td>56</td>\n",
       "      <td>JARDIM DA PENHA</td>\n",
       "      <td>0</td>\n",
       "      <td>0</td>\n",
       "      <td>0</td>\n",
       "      <td>0</td>\n",
       "      <td>0</td>\n",
       "      <td>0</td>\n",
       "      <td>No</td>\n",
       "      <td>0</td>\n",
       "    </tr>\n",
       "    <tr>\n",
       "      <th>2</th>\n",
       "      <td>4262962299951</td>\n",
       "      <td>5642549</td>\n",
       "      <td>F</td>\n",
       "      <td>2016-04-29 16:19:04</td>\n",
       "      <td>2016-04-29</td>\n",
       "      <td>62</td>\n",
       "      <td>MATA DA PRAIA</td>\n",
       "      <td>0</td>\n",
       "      <td>0</td>\n",
       "      <td>0</td>\n",
       "      <td>0</td>\n",
       "      <td>0</td>\n",
       "      <td>0</td>\n",
       "      <td>No</td>\n",
       "      <td>0</td>\n",
       "    </tr>\n",
       "    <tr>\n",
       "      <th>3</th>\n",
       "      <td>867951213174</td>\n",
       "      <td>5642828</td>\n",
       "      <td>F</td>\n",
       "      <td>2016-04-29 17:29:31</td>\n",
       "      <td>2016-04-29</td>\n",
       "      <td>8</td>\n",
       "      <td>PONTAL DE CAMBURI</td>\n",
       "      <td>0</td>\n",
       "      <td>0</td>\n",
       "      <td>0</td>\n",
       "      <td>0</td>\n",
       "      <td>0</td>\n",
       "      <td>0</td>\n",
       "      <td>No</td>\n",
       "      <td>0</td>\n",
       "    </tr>\n",
       "    <tr>\n",
       "      <th>4</th>\n",
       "      <td>8841186448183</td>\n",
       "      <td>5642494</td>\n",
       "      <td>F</td>\n",
       "      <td>2016-04-29 16:07:23</td>\n",
       "      <td>2016-04-29</td>\n",
       "      <td>56</td>\n",
       "      <td>JARDIM DA PENHA</td>\n",
       "      <td>0</td>\n",
       "      <td>1</td>\n",
       "      <td>1</td>\n",
       "      <td>0</td>\n",
       "      <td>0</td>\n",
       "      <td>0</td>\n",
       "      <td>No</td>\n",
       "      <td>0</td>\n",
       "    </tr>\n",
       "  </tbody>\n",
       "</table>\n",
       "</div>"
      ],
      "text/plain": [
       "        patient_id  appointment_id gender       scheduled_day appointment_day  \\\n",
       "0   29872499824296         5642903      F 2016-04-29 18:38:08      2016-04-29   \n",
       "1  558997776694438         5642503      M 2016-04-29 16:08:27      2016-04-29   \n",
       "2    4262962299951         5642549      F 2016-04-29 16:19:04      2016-04-29   \n",
       "3     867951213174         5642828      F 2016-04-29 17:29:31      2016-04-29   \n",
       "4    8841186448183         5642494      F 2016-04-29 16:07:23      2016-04-29   \n",
       "\n",
       "   age      neighbourhood  scholarship  hipertension  diabetes  alcoholism  \\\n",
       "0   62    JARDIM DA PENHA            0             1         0           0   \n",
       "1   56    JARDIM DA PENHA            0             0         0           0   \n",
       "2   62      MATA DA PRAIA            0             0         0           0   \n",
       "3    8  PONTAL DE CAMBURI            0             0         0           0   \n",
       "4   56    JARDIM DA PENHA            0             1         1           0   \n",
       "\n",
       "  handicap  sms_received no_show  handicap_bin  \n",
       "0        0             0      No             0  \n",
       "1        0             0      No             0  \n",
       "2        0             0      No             0  \n",
       "3        0             0      No             0  \n",
       "4        0             0      No             0  "
      ]
     },
     "execution_count": 3,
     "metadata": {},
     "output_type": "execute_result"
    }
   ],
   "source": [
    "df.head()"
   ]
  },
  {
   "cell_type": "markdown",
   "metadata": {},
   "source": [
    "#### Set palette"
   ]
  },
  {
   "cell_type": "code",
   "execution_count": 4,
   "metadata": {},
   "outputs": [],
   "source": [
    "sc = {'red': '#bf4040',\n",
    "      'dark_grey': '#404040',\n",
    "      'mid_grey' : '#807f80',\n",
    "      'light_grey':'#bfbfbf',\n",
    "      'blue' : '#5ac0fa'}"
   ]
  },
  {
   "cell_type": "code",
   "execution_count": 5,
   "metadata": {},
   "outputs": [],
   "source": [
    "sns.set_palette(['#bf4040','#404040','#5ac0fa'])"
   ]
  },
  {
   "cell_type": "markdown",
   "metadata": {},
   "source": [
    "## 2. Demographics\n",
    "What do the demographic groups look like?"
   ]
  },
  {
   "cell_type": "markdown",
   "metadata": {},
   "source": [
    "#### 2.1 feature engineering\n",
    "Quickly make binary columns for `no_show` and `gender` (dummy variables)"
   ]
  },
  {
   "cell_type": "code",
   "execution_count": 6,
   "metadata": {},
   "outputs": [
    {
     "data": {
      "text/html": [
       "<div>\n",
       "<style scoped>\n",
       "    .dataframe tbody tr th:only-of-type {\n",
       "        vertical-align: middle;\n",
       "    }\n",
       "\n",
       "    .dataframe tbody tr th {\n",
       "        vertical-align: top;\n",
       "    }\n",
       "\n",
       "    .dataframe thead th {\n",
       "        text-align: right;\n",
       "    }\n",
       "</style>\n",
       "<table border=\"1\" class=\"dataframe\">\n",
       "  <thead>\n",
       "    <tr style=\"text-align: right;\">\n",
       "      <th></th>\n",
       "      <th>no_show</th>\n",
       "      <th>no_show_bin</th>\n",
       "    </tr>\n",
       "  </thead>\n",
       "  <tbody>\n",
       "    <tr>\n",
       "      <th>0</th>\n",
       "      <td>No</td>\n",
       "      <td>0</td>\n",
       "    </tr>\n",
       "    <tr>\n",
       "      <th>1</th>\n",
       "      <td>No</td>\n",
       "      <td>0</td>\n",
       "    </tr>\n",
       "    <tr>\n",
       "      <th>2</th>\n",
       "      <td>No</td>\n",
       "      <td>0</td>\n",
       "    </tr>\n",
       "    <tr>\n",
       "      <th>3</th>\n",
       "      <td>No</td>\n",
       "      <td>0</td>\n",
       "    </tr>\n",
       "    <tr>\n",
       "      <th>4</th>\n",
       "      <td>No</td>\n",
       "      <td>0</td>\n",
       "    </tr>\n",
       "  </tbody>\n",
       "</table>\n",
       "</div>"
      ],
      "text/plain": [
       "  no_show  no_show_bin\n",
       "0      No            0\n",
       "1      No            0\n",
       "2      No            0\n",
       "3      No            0\n",
       "4      No            0"
      ]
     },
     "execution_count": 6,
     "metadata": {},
     "output_type": "execute_result"
    }
   ],
   "source": [
    "# binary column no-shows\n",
    "df['no_show_bin'] = df['no_show'].replace({'No':0, 'Yes':1})\n",
    "df[['no_show','no_show_bin']].head()"
   ]
  },
  {
   "cell_type": "code",
   "execution_count": 7,
   "metadata": {},
   "outputs": [
    {
     "data": {
      "text/html": [
       "<div>\n",
       "<style scoped>\n",
       "    .dataframe tbody tr th:only-of-type {\n",
       "        vertical-align: middle;\n",
       "    }\n",
       "\n",
       "    .dataframe tbody tr th {\n",
       "        vertical-align: top;\n",
       "    }\n",
       "\n",
       "    .dataframe thead th {\n",
       "        text-align: right;\n",
       "    }\n",
       "</style>\n",
       "<table border=\"1\" class=\"dataframe\">\n",
       "  <thead>\n",
       "    <tr style=\"text-align: right;\">\n",
       "      <th></th>\n",
       "      <th>gender</th>\n",
       "      <th>female</th>\n",
       "    </tr>\n",
       "  </thead>\n",
       "  <tbody>\n",
       "    <tr>\n",
       "      <th>0</th>\n",
       "      <td>F</td>\n",
       "      <td>1</td>\n",
       "    </tr>\n",
       "    <tr>\n",
       "      <th>1</th>\n",
       "      <td>M</td>\n",
       "      <td>0</td>\n",
       "    </tr>\n",
       "    <tr>\n",
       "      <th>2</th>\n",
       "      <td>F</td>\n",
       "      <td>1</td>\n",
       "    </tr>\n",
       "    <tr>\n",
       "      <th>3</th>\n",
       "      <td>F</td>\n",
       "      <td>1</td>\n",
       "    </tr>\n",
       "    <tr>\n",
       "      <th>4</th>\n",
       "      <td>F</td>\n",
       "      <td>1</td>\n",
       "    </tr>\n",
       "  </tbody>\n",
       "</table>\n",
       "</div>"
      ],
      "text/plain": [
       "  gender  female\n",
       "0      F       1\n",
       "1      M       0\n",
       "2      F       1\n",
       "3      F       1\n",
       "4      F       1"
      ]
     },
     "execution_count": 7,
     "metadata": {},
     "output_type": "execute_result"
    }
   ],
   "source": [
    "# female-column\n",
    "df['female'] = (df['gender'] == 'F')*1\n",
    "df[['gender','female']].head()"
   ]
  },
  {
   "cell_type": "markdown",
   "metadata": {},
   "source": [
    "#### 2.2 group size (binary metrics)"
   ]
  },
  {
   "cell_type": "code",
   "execution_count": 8,
   "metadata": {},
   "outputs": [],
   "source": [
    "bin_cols = ['female','scholarship','hipertension','diabetes','alcoholism','sms_received','handicap_bin','no_show_bin']"
   ]
  },
  {
   "cell_type": "code",
   "execution_count": 9,
   "metadata": {},
   "outputs": [
    {
     "data": {
      "text/plain": [
       "female          71839\n",
       "scholarship     10861\n",
       "hipertension    21801\n",
       "diabetes         7943\n",
       "alcoholism       3360\n",
       "sms_received    35482\n",
       "handicap_bin     2241\n",
       "no_show_bin     22319\n",
       "dtype: int64"
      ]
     },
     "execution_count": 9,
     "metadata": {},
     "output_type": "execute_result"
    }
   ],
   "source": [
    "df[bin_cols].sum()"
   ]
  },
  {
   "cell_type": "code",
   "execution_count": 10,
   "metadata": {},
   "outputs": [
    {
     "data": {
      "text/plain": [
       "female          64.997376\n",
       "scholarship      9.826647\n",
       "hipertension    19.724771\n",
       "diabetes         7.186544\n",
       "alcoholism       3.040009\n",
       "sms_received    32.102854\n",
       "handicap_bin     2.027577\n",
       "no_show_bin     20.193439\n",
       "dtype: float64"
      ]
     },
     "execution_count": 10,
     "metadata": {},
     "output_type": "execute_result"
    }
   ],
   "source": [
    "df[bin_cols].sum()*100/len(df)"
   ]
  },
  {
   "cell_type": "markdown",
   "metadata": {},
   "source": [
    "> Already, we can get some interesting insights from this data:\n",
    "> * handicaps, alcoholism, handicap and scholarschip (~insurance) are rare groups (<10%)\n",
    "> * no show is imbalanced, 20% of visits are no-shows (note: this is not imbalanced enough to have to act for ML)\n",
    "> * we see more females than males (64% visits are by females)"
   ]
  },
  {
   "cell_type": "markdown",
   "metadata": {},
   "source": [
    "#### 2.3 no-show across groups"
   ]
  },
  {
   "cell_type": "code",
   "execution_count": 11,
   "metadata": {},
   "outputs": [],
   "source": [
    "group_split_1 = []\n",
    "group_split_2 = []\n",
    "cols = []\n",
    "\n",
    "for col in bin_cols:\n",
    "    if col!= 'no_show_bin':\n",
    "        group_split_1.append(df.groupby(col)['no_show_bin'].mean()) #no-show perc per group\n",
    "        group_split_2.append(df.groupby(col).size()) #size per group\n",
    "        cols.append(col)"
   ]
  },
  {
   "cell_type": "code",
   "execution_count": 12,
   "metadata": {},
   "outputs": [
    {
     "data": {
      "text/html": [
       "<div>\n",
       "<style scoped>\n",
       "    .dataframe tbody tr th:only-of-type {\n",
       "        vertical-align: middle;\n",
       "    }\n",
       "\n",
       "    .dataframe tbody tr th {\n",
       "        vertical-align: top;\n",
       "    }\n",
       "\n",
       "    .dataframe thead th {\n",
       "        text-align: right;\n",
       "    }\n",
       "</style>\n",
       "<table border=\"1\" class=\"dataframe\">\n",
       "  <thead>\n",
       "    <tr style=\"text-align: right;\">\n",
       "      <th></th>\n",
       "      <th>0</th>\n",
       "      <th>1</th>\n",
       "      <th>0</th>\n",
       "      <th>1</th>\n",
       "    </tr>\n",
       "  </thead>\n",
       "  <tbody>\n",
       "    <tr>\n",
       "      <th>female</th>\n",
       "      <td>0.199679</td>\n",
       "      <td>0.203149</td>\n",
       "      <td>38687</td>\n",
       "      <td>71839</td>\n",
       "    </tr>\n",
       "    <tr>\n",
       "      <th>scholarship</th>\n",
       "      <td>0.198074</td>\n",
       "      <td>0.237363</td>\n",
       "      <td>99665</td>\n",
       "      <td>10861</td>\n",
       "    </tr>\n",
       "    <tr>\n",
       "      <th>hipertension</th>\n",
       "      <td>0.209039</td>\n",
       "      <td>0.173020</td>\n",
       "      <td>88725</td>\n",
       "      <td>21801</td>\n",
       "    </tr>\n",
       "    <tr>\n",
       "      <th>diabetes</th>\n",
       "      <td>0.203630</td>\n",
       "      <td>0.180033</td>\n",
       "      <td>102583</td>\n",
       "      <td>7943</td>\n",
       "    </tr>\n",
       "    <tr>\n",
       "      <th>alcoholism</th>\n",
       "      <td>0.201948</td>\n",
       "      <td>0.201488</td>\n",
       "      <td>107166</td>\n",
       "      <td>3360</td>\n",
       "    </tr>\n",
       "    <tr>\n",
       "      <th>sms_received</th>\n",
       "      <td>0.167035</td>\n",
       "      <td>0.275745</td>\n",
       "      <td>75044</td>\n",
       "      <td>35482</td>\n",
       "    </tr>\n",
       "    <tr>\n",
       "      <th>handicap_bin</th>\n",
       "      <td>0.202355</td>\n",
       "      <td>0.181615</td>\n",
       "      <td>108285</td>\n",
       "      <td>2241</td>\n",
       "    </tr>\n",
       "  </tbody>\n",
       "</table>\n",
       "</div>"
      ],
      "text/plain": [
       "                     0         1       0      1\n",
       "female        0.199679  0.203149   38687  71839\n",
       "scholarship   0.198074  0.237363   99665  10861\n",
       "hipertension  0.209039  0.173020   88725  21801\n",
       "diabetes      0.203630  0.180033  102583   7943\n",
       "alcoholism    0.201948  0.201488  107166   3360\n",
       "sms_received  0.167035  0.275745   75044  35482\n",
       "handicap_bin  0.202355  0.181615  108285   2241"
      ]
     },
     "execution_count": 12,
     "metadata": {},
     "output_type": "execute_result"
    }
   ],
   "source": [
    "pd.concat([pd.DataFrame(group_split_1, index = cols),\n",
    "           pd.DataFrame(group_split_2, index = cols)], axis = 1)"
   ]
  },
  {
   "cell_type": "markdown",
   "metadata": {},
   "source": [
    "> we do not see any major effects, for most groups the no-show percentage varies between 19 and 23 percent. Exception is when a user received an sms. For visits where the user received an SMS, the no-show percentage is 27.5%, whereas it is 16.7% is the user did not receive an SMS. Do note that only 35,000 of 110.000 users received an SMS! (not neccesarily at random)."
   ]
  },
  {
   "cell_type": "markdown",
   "metadata": {},
   "source": [
    "#### 2.4 age\n",
    "We'll asses the age-gender composition of our dataset, and the no-show percentages."
   ]
  },
  {
   "cell_type": "code",
   "execution_count": 13,
   "metadata": {},
   "outputs": [
    {
     "data": {
      "image/png": "[encoded data removed]",
      "text/plain": [
       "<Figure size 720x720 with 2 Axes>"
      ]
     },
     "metadata": {},
     "output_type": "display_data"
    }
   ],
   "source": [
    "fig = plt.figure(figsize=(10,10))\n",
    "\n",
    "# plot the histograme for \"Male\" on the left side.\n",
    "# we need to have a vertical histogram with inverted x-axis and no labels\n",
    "# the binsize is set by us at groups of 5 between 0 and 115\n",
    "ax1 = fig.add_subplot(121)\n",
    "\n",
    "# Male histogram\n",
    "df[df['gender']=='M'].hist(column='age',bins=[i for i in range(0,116,5)], \n",
    "                           rwidth=0.5, orientation=\"horizontal\", ax=ax1,\n",
    "                           color=sc['blue'])#, alpha=0.6)\n",
    "\n",
    "# Invert x-axis (count) and add labels\n",
    "ax1.set_xlim(5500,0)\n",
    "ax1.set_ylim(0,100)\n",
    "ax1.set_title('Male')\n",
    "ax1.set_xlabel('Patients')\n",
    "ax1.yaxis.tick_right()\n",
    "ax1.set_ylabel('Age')\n",
    "\n",
    "\n",
    "# plot the vertical histogram for \"Female\" on the right side.\n",
    "ax2 = fig.add_subplot(122)\n",
    "df[df['gender']=='F'].hist(column='age',bins=[i for i in range(0,116,5)], \n",
    "                           rwidth=0.5, orientation=\"horizontal\", ax=ax2,\n",
    "                           color=sc['mid_grey'])#, alpha=0.6)\n",
    "ax2.set_ylim(0,100)\n",
    "ax2.set_title('Female')\n",
    "ax2.set_xlabel('Patients')\n",
    "ax2.set_ylabel('Age')\n",
    "ax2.yaxis.set_label_position(\"right\");"
   ]
  },
  {
   "cell_type": "markdown",
   "metadata": {},
   "source": [
    "> More females than males (as seen before), but note the relative peak for young males (children)."
   ]
  },
  {
   "cell_type": "code",
   "execution_count": 14,
   "metadata": {},
   "outputs": [],
   "source": [
    "# create age-bins\n",
    "bin_edges = [i for i in range(0,116,5)]\n",
    "bin_names = bin_edges[1:] #[i+5 for i in bin_edges[:-1]]\n",
    "assert len(bin_names)==len(bin_edges)-1"
   ]
  },
  {
   "cell_type": "code",
   "execution_count": 15,
   "metadata": {},
   "outputs": [
    {
     "data": {
      "text/html": [
       "<div>\n",
       "<style scoped>\n",
       "    .dataframe tbody tr th:only-of-type {\n",
       "        vertical-align: middle;\n",
       "    }\n",
       "\n",
       "    .dataframe tbody tr th {\n",
       "        vertical-align: top;\n",
       "    }\n",
       "\n",
       "    .dataframe thead th {\n",
       "        text-align: right;\n",
       "    }\n",
       "</style>\n",
       "<table border=\"1\" class=\"dataframe\">\n",
       "  <thead>\n",
       "    <tr style=\"text-align: right;\">\n",
       "      <th></th>\n",
       "      <th>age</th>\n",
       "      <th>age_group</th>\n",
       "    </tr>\n",
       "  </thead>\n",
       "  <tbody>\n",
       "    <tr>\n",
       "      <th>0</th>\n",
       "      <td>62</td>\n",
       "      <td>65</td>\n",
       "    </tr>\n",
       "    <tr>\n",
       "      <th>1</th>\n",
       "      <td>56</td>\n",
       "      <td>60</td>\n",
       "    </tr>\n",
       "    <tr>\n",
       "      <th>2</th>\n",
       "      <td>62</td>\n",
       "      <td>65</td>\n",
       "    </tr>\n",
       "    <tr>\n",
       "      <th>3</th>\n",
       "      <td>8</td>\n",
       "      <td>10</td>\n",
       "    </tr>\n",
       "    <tr>\n",
       "      <th>4</th>\n",
       "      <td>56</td>\n",
       "      <td>60</td>\n",
       "    </tr>\n",
       "  </tbody>\n",
       "</table>\n",
       "</div>"
      ],
      "text/plain": [
       "   age age_group\n",
       "0   62        65\n",
       "1   56        60\n",
       "2   62        65\n",
       "3    8        10\n",
       "4   56        60"
      ]
     },
     "execution_count": 15,
     "metadata": {},
     "output_type": "execute_result"
    }
   ],
   "source": [
    "# assign visits to an age-bin\n",
    "df['age_group'] = pd.cut(df['age'], bin_edges, labels=bin_names)\n",
    "df[['age','age_group']].head()"
   ]
  },
  {
   "cell_type": "code",
   "execution_count": 16,
   "metadata": {},
   "outputs": [
    {
     "data": {
      "text/html": [
       "<div>\n",
       "<style scoped>\n",
       "    .dataframe tbody tr th:only-of-type {\n",
       "        vertical-align: middle;\n",
       "    }\n",
       "\n",
       "    .dataframe tbody tr th {\n",
       "        vertical-align: top;\n",
       "    }\n",
       "\n",
       "    .dataframe thead th {\n",
       "        text-align: right;\n",
       "    }\n",
       "</style>\n",
       "<table border=\"1\" class=\"dataframe\">\n",
       "  <thead>\n",
       "    <tr style=\"text-align: right;\">\n",
       "      <th></th>\n",
       "      <th>age_group</th>\n",
       "      <th>gender</th>\n",
       "      <th>no_show_bin</th>\n",
       "    </tr>\n",
       "  </thead>\n",
       "  <tbody>\n",
       "    <tr>\n",
       "      <th>0</th>\n",
       "      <td>5</td>\n",
       "      <td>F</td>\n",
       "      <td>0.190574</td>\n",
       "    </tr>\n",
       "    <tr>\n",
       "      <th>1</th>\n",
       "      <td>5</td>\n",
       "      <td>M</td>\n",
       "      <td>0.187050</td>\n",
       "    </tr>\n",
       "    <tr>\n",
       "      <th>2</th>\n",
       "      <td>10</td>\n",
       "      <td>F</td>\n",
       "      <td>0.221472</td>\n",
       "    </tr>\n",
       "    <tr>\n",
       "      <th>3</th>\n",
       "      <td>10</td>\n",
       "      <td>M</td>\n",
       "      <td>0.234433</td>\n",
       "    </tr>\n",
       "    <tr>\n",
       "      <th>4</th>\n",
       "      <td>15</td>\n",
       "      <td>F</td>\n",
       "      <td>0.261782</td>\n",
       "    </tr>\n",
       "  </tbody>\n",
       "</table>\n",
       "</div>"
      ],
      "text/plain": [
       "  age_group gender  no_show_bin\n",
       "0         5      F     0.190574\n",
       "1         5      M     0.187050\n",
       "2        10      F     0.221472\n",
       "3        10      M     0.234433\n",
       "4        15      F     0.261782"
      ]
     },
     "execution_count": 16,
     "metadata": {},
     "output_type": "execute_result"
    }
   ],
   "source": [
    "no_show_bins = df.groupby(['age_group','gender'], as_index = False)['no_show_bin'].mean()\n",
    "no_show_bins.head()"
   ]
  },
  {
   "cell_type": "code",
   "execution_count": null,
   "metadata": {},
   "outputs": [],
   "source": []
  },
  {
   "cell_type": "code",
   "execution_count": 17,
   "metadata": {},
   "outputs": [
    {
     "data": {
      "image/png": "[encoded data removed]",
      "text/plain": [
       "<Figure size 720x720 with 2 Axes>"
      ]
     },
     "metadata": {},
     "output_type": "display_data"
    }
   ],
   "source": [
    "fig = plt.figure(figsize=(10,10))\n",
    "\n",
    "# plot the now-show percentage for Males in each each age-group\n",
    "ax1 = fig.add_subplot(121)\n",
    "sns.barplot(x='no_show_bin', y='age_group', ax=ax1, \n",
    "            data = no_show_bins[no_show_bins['gender'] == 'M'], color=sc['blue'])\n",
    "\n",
    "# plot a line for the overall no-show percentage\n",
    "plt.axvline(df['no_show_bin'].mean(), color='red')\n",
    "# adjust ticks and limits for the population pyramid\n",
    "ax1.yaxis.tick_right()\n",
    "ax1.set_xlim(.30,0)\n",
    "ax1.set_ylim(0,20)\n",
    "\n",
    "# plot the now-show percentage for Females in each each age-group\n",
    "ax2 = fig.add_subplot(122)\n",
    "sns.barplot(x='no_show_bin', y='age_group', \n",
    "            data = no_show_bins[no_show_bins['gender'] == 'F'], color=sc['mid_grey'])\n",
    "# plot a line for the overall no-show percentage\n",
    "plt.axvline(df['no_show_bin'].mean(), color='red')\n",
    "# adjust ticks and limits for the population pyramid\n",
    "ax2.set_xlim(0,.30)\n",
    "ax2.set_ylabel(\"\")\n",
    "ax2.yaxis.set_ticks([])\n",
    "ax2.set_ylim(0,20);"
   ]
  },
  {
   "cell_type": "markdown",
   "metadata": {},
   "source": [
    "> The red-lines in the graph above denote the overall no-show percentage. We see that for both males and females, younger groups (<40) are more likely to no-show compared to elderly."
   ]
  },
  {
   "cell_type": "markdown",
   "metadata": {},
   "source": [
    "#### 2.5 suburb"
   ]
  },
  {
   "cell_type": "code",
   "execution_count": 18,
   "metadata": {},
   "outputs": [
    {
     "data": {
      "text/html": [
       "<div>\n",
       "<style scoped>\n",
       "    .dataframe tbody tr th:only-of-type {\n",
       "        vertical-align: middle;\n",
       "    }\n",
       "\n",
       "    .dataframe tbody tr th {\n",
       "        vertical-align: top;\n",
       "    }\n",
       "\n",
       "    .dataframe thead th {\n",
       "        text-align: right;\n",
       "    }\n",
       "</style>\n",
       "<table border=\"1\" class=\"dataframe\">\n",
       "  <thead>\n",
       "    <tr style=\"text-align: right;\">\n",
       "      <th></th>\n",
       "      <th>neighbourhood</th>\n",
       "      <th>mean</th>\n",
       "      <th>size</th>\n",
       "    </tr>\n",
       "  </thead>\n",
       "  <tbody>\n",
       "    <tr>\n",
       "      <th>38</th>\n",
       "      <td>JARDIM CAMBURI</td>\n",
       "      <td>0.189841</td>\n",
       "      <td>7717</td>\n",
       "    </tr>\n",
       "    <tr>\n",
       "      <th>43</th>\n",
       "      <td>MARIA ORTIZ</td>\n",
       "      <td>0.209991</td>\n",
       "      <td>5805</td>\n",
       "    </tr>\n",
       "    <tr>\n",
       "      <th>59</th>\n",
       "      <td>RESISTÊNCIA</td>\n",
       "      <td>0.204469</td>\n",
       "      <td>4431</td>\n",
       "    </tr>\n",
       "    <tr>\n",
       "      <th>39</th>\n",
       "      <td>JARDIM DA PENHA</td>\n",
       "      <td>0.162755</td>\n",
       "      <td>3877</td>\n",
       "    </tr>\n",
       "    <tr>\n",
       "      <th>36</th>\n",
       "      <td>ITARARÉ</td>\n",
       "      <td>0.262664</td>\n",
       "      <td>3514</td>\n",
       "    </tr>\n",
       "    <tr>\n",
       "      <th>...</th>\n",
       "      <td>...</td>\n",
       "      <td>...</td>\n",
       "      <td>...</td>\n",
       "    </tr>\n",
       "    <tr>\n",
       "      <th>31</th>\n",
       "      <td>ILHA DO BOI</td>\n",
       "      <td>0.085714</td>\n",
       "      <td>35</td>\n",
       "    </tr>\n",
       "    <tr>\n",
       "      <th>32</th>\n",
       "      <td>ILHA DO FRADE</td>\n",
       "      <td>0.200000</td>\n",
       "      <td>10</td>\n",
       "    </tr>\n",
       "    <tr>\n",
       "      <th>0</th>\n",
       "      <td>AEROPORTO</td>\n",
       "      <td>0.125000</td>\n",
       "      <td>8</td>\n",
       "    </tr>\n",
       "    <tr>\n",
       "      <th>34</th>\n",
       "      <td>ILHAS OCEÂNICAS DE TRINDADE</td>\n",
       "      <td>1.000000</td>\n",
       "      <td>2</td>\n",
       "    </tr>\n",
       "    <tr>\n",
       "      <th>51</th>\n",
       "      <td>PARQUE INDUSTRIAL</td>\n",
       "      <td>0.000000</td>\n",
       "      <td>1</td>\n",
       "    </tr>\n",
       "  </tbody>\n",
       "</table>\n",
       "<p>81 rows × 3 columns</p>\n",
       "</div>"
      ],
      "text/plain": [
       "                  neighbourhood      mean  size\n",
       "38               JARDIM CAMBURI  0.189841  7717\n",
       "43                  MARIA ORTIZ  0.209991  5805\n",
       "59                  RESISTÊNCIA  0.204469  4431\n",
       "39              JARDIM DA PENHA  0.162755  3877\n",
       "36                      ITARARÉ  0.262664  3514\n",
       "..                          ...       ...   ...\n",
       "31                  ILHA DO BOI  0.085714    35\n",
       "32                ILHA DO FRADE  0.200000    10\n",
       "0                     AEROPORTO  0.125000     8\n",
       "34  ILHAS OCEÂNICAS DE TRINDADE  1.000000     2\n",
       "51            PARQUE INDUSTRIAL  0.000000     1\n",
       "\n",
       "[81 rows x 3 columns]"
      ]
     },
     "execution_count": 18,
     "metadata": {},
     "output_type": "execute_result"
    }
   ],
   "source": [
    "suburbs = df.groupby('neighbourhood')['no_show_bin'].agg(['mean','size']).reset_index()\n",
    "suburbs.sort_values('size', ascending = False)"
   ]
  },
  {
   "cell_type": "code",
   "execution_count": 19,
   "metadata": {},
   "outputs": [
    {
     "data": {
      "image/png": "[encoded data removed]",
      "text/plain": [
       "<Figure size 720x720 with 1 Axes>"
      ]
     },
     "metadata": {},
     "output_type": "display_data"
    }
   ],
   "source": [
    "plt.figure(figsize = (10,10))\n",
    "subs = suburbs[suburbs['size']>2000].sort_values('size', ascending = False).reset_index(drop=True)\n",
    "sns.barplot(x = 'mean', y = 'neighbourhood', data = subs, color=sc['blue'])\n",
    "plt.axvline(df['no_show_bin'].mean(), color='red')\n",
    "plt.title('neighbourhoods with >2000 visits, ordered by visits desc');"
   ]
  },
  {
   "cell_type": "markdown",
   "metadata": {},
   "source": [
    "> There is a bit of variation between visits in these suburbs, but it doesn't seem substantial. "
   ]
  },
  {
   "cell_type": "markdown",
   "metadata": {},
   "source": [
    "#### 2.6 brief summary so far\n",
    "In terms of demographics, we mainly see an influence from SMS's (inverse of expected) and age. The other parameters don't seem to have a major influence "
   ]
  },
  {
   "cell_type": "markdown",
   "metadata": {},
   "source": [
    "## 3. Temporal\n",
    "***\n",
    "Can we distinguish patterns of no-show over time? \n",
    "\n",
    "We are breaking down the scheduled date and appointment date into their temporal components (day, month, ..), and look at no-show-rates across these slices. For a better picture, we also track the overall visits across these slices to better assess impact and filter outliers."
   ]
  },
  {
   "cell_type": "markdown",
   "metadata": {},
   "source": [
    "#### 3.1 feature engineering\n",
    "Let's breakdown the time metrics available into it's components (as many as possible)."
   ]
  },
  {
   "cell_type": "code",
   "execution_count": 20,
   "metadata": {},
   "outputs": [
    {
     "data": {
      "text/html": [
       "<div>\n",
       "<style scoped>\n",
       "    .dataframe tbody tr th:only-of-type {\n",
       "        vertical-align: middle;\n",
       "    }\n",
       "\n",
       "    .dataframe tbody tr th {\n",
       "        vertical-align: top;\n",
       "    }\n",
       "\n",
       "    .dataframe thead th {\n",
       "        text-align: right;\n",
       "    }\n",
       "</style>\n",
       "<table border=\"1\" class=\"dataframe\">\n",
       "  <thead>\n",
       "    <tr style=\"text-align: right;\">\n",
       "      <th></th>\n",
       "      <th>scheduled_day</th>\n",
       "      <th>appointment_day</th>\n",
       "    </tr>\n",
       "  </thead>\n",
       "  <tbody>\n",
       "    <tr>\n",
       "      <th>0</th>\n",
       "      <td>2016-04-29 18:38:08</td>\n",
       "      <td>2016-04-29</td>\n",
       "    </tr>\n",
       "    <tr>\n",
       "      <th>1</th>\n",
       "      <td>2016-04-29 16:08:27</td>\n",
       "      <td>2016-04-29</td>\n",
       "    </tr>\n",
       "  </tbody>\n",
       "</table>\n",
       "</div>"
      ],
      "text/plain": [
       "        scheduled_day appointment_day\n",
       "0 2016-04-29 18:38:08      2016-04-29\n",
       "1 2016-04-29 16:08:27      2016-04-29"
      ]
     },
     "execution_count": 20,
     "metadata": {},
     "output_type": "execute_result"
    }
   ],
   "source": [
    "df[['scheduled_day','appointment_day']].head(2)"
   ]
  },
  {
   "cell_type": "code",
   "execution_count": 21,
   "metadata": {},
   "outputs": [
    {
     "data": {
      "text/html": [
       "<div>\n",
       "<style scoped>\n",
       "    .dataframe tbody tr th:only-of-type {\n",
       "        vertical-align: middle;\n",
       "    }\n",
       "\n",
       "    .dataframe tbody tr th {\n",
       "        vertical-align: top;\n",
       "    }\n",
       "\n",
       "    .dataframe thead th {\n",
       "        text-align: right;\n",
       "    }\n",
       "</style>\n",
       "<table border=\"1\" class=\"dataframe\">\n",
       "  <thead>\n",
       "    <tr style=\"text-align: right;\">\n",
       "      <th></th>\n",
       "      <th>patient_id</th>\n",
       "      <th>appointment_id</th>\n",
       "      <th>gender</th>\n",
       "      <th>scheduled_day</th>\n",
       "      <th>appointment_day</th>\n",
       "      <th>age</th>\n",
       "      <th>neighbourhood</th>\n",
       "      <th>scholarship</th>\n",
       "      <th>hipertension</th>\n",
       "      <th>diabetes</th>\n",
       "      <th>...</th>\n",
       "      <th>scheduled_dom</th>\n",
       "      <th>scheduled_dow</th>\n",
       "      <th>scheduled_hour</th>\n",
       "      <th>scheduled_day_type</th>\n",
       "      <th>appointment_month</th>\n",
       "      <th>appointment_week</th>\n",
       "      <th>appointment_dom</th>\n",
       "      <th>appointment_dow</th>\n",
       "      <th>appointment_day_type</th>\n",
       "      <th>wait_time</th>\n",
       "    </tr>\n",
       "  </thead>\n",
       "  <tbody>\n",
       "    <tr>\n",
       "      <th>0</th>\n",
       "      <td>29872499824296</td>\n",
       "      <td>5642903</td>\n",
       "      <td>F</td>\n",
       "      <td>2016-04-29 18:38:08</td>\n",
       "      <td>2016-04-29</td>\n",
       "      <td>62</td>\n",
       "      <td>JARDIM DA PENHA</td>\n",
       "      <td>0</td>\n",
       "      <td>1</td>\n",
       "      <td>0</td>\n",
       "      <td>...</td>\n",
       "      <td>29</td>\n",
       "      <td>friday</td>\n",
       "      <td>18</td>\n",
       "      <td>weekday</td>\n",
       "      <td>4</td>\n",
       "      <td>17</td>\n",
       "      <td>29</td>\n",
       "      <td>friday</td>\n",
       "      <td>weekday</td>\n",
       "      <td>0</td>\n",
       "    </tr>\n",
       "    <tr>\n",
       "      <th>1</th>\n",
       "      <td>558997776694438</td>\n",
       "      <td>5642503</td>\n",
       "      <td>M</td>\n",
       "      <td>2016-04-29 16:08:27</td>\n",
       "      <td>2016-04-29</td>\n",
       "      <td>56</td>\n",
       "      <td>JARDIM DA PENHA</td>\n",
       "      <td>0</td>\n",
       "      <td>0</td>\n",
       "      <td>0</td>\n",
       "      <td>...</td>\n",
       "      <td>29</td>\n",
       "      <td>friday</td>\n",
       "      <td>16</td>\n",
       "      <td>weekday</td>\n",
       "      <td>4</td>\n",
       "      <td>17</td>\n",
       "      <td>29</td>\n",
       "      <td>friday</td>\n",
       "      <td>weekday</td>\n",
       "      <td>0</td>\n",
       "    </tr>\n",
       "    <tr>\n",
       "      <th>2</th>\n",
       "      <td>4262962299951</td>\n",
       "      <td>5642549</td>\n",
       "      <td>F</td>\n",
       "      <td>2016-04-29 16:19:04</td>\n",
       "      <td>2016-04-29</td>\n",
       "      <td>62</td>\n",
       "      <td>MATA DA PRAIA</td>\n",
       "      <td>0</td>\n",
       "      <td>0</td>\n",
       "      <td>0</td>\n",
       "      <td>...</td>\n",
       "      <td>29</td>\n",
       "      <td>friday</td>\n",
       "      <td>16</td>\n",
       "      <td>weekday</td>\n",
       "      <td>4</td>\n",
       "      <td>17</td>\n",
       "      <td>29</td>\n",
       "      <td>friday</td>\n",
       "      <td>weekday</td>\n",
       "      <td>0</td>\n",
       "    </tr>\n",
       "    <tr>\n",
       "      <th>3</th>\n",
       "      <td>867951213174</td>\n",
       "      <td>5642828</td>\n",
       "      <td>F</td>\n",
       "      <td>2016-04-29 17:29:31</td>\n",
       "      <td>2016-04-29</td>\n",
       "      <td>8</td>\n",
       "      <td>PONTAL DE CAMBURI</td>\n",
       "      <td>0</td>\n",
       "      <td>0</td>\n",
       "      <td>0</td>\n",
       "      <td>...</td>\n",
       "      <td>29</td>\n",
       "      <td>friday</td>\n",
       "      <td>17</td>\n",
       "      <td>weekday</td>\n",
       "      <td>4</td>\n",
       "      <td>17</td>\n",
       "      <td>29</td>\n",
       "      <td>friday</td>\n",
       "      <td>weekday</td>\n",
       "      <td>0</td>\n",
       "    </tr>\n",
       "    <tr>\n",
       "      <th>4</th>\n",
       "      <td>8841186448183</td>\n",
       "      <td>5642494</td>\n",
       "      <td>F</td>\n",
       "      <td>2016-04-29 16:07:23</td>\n",
       "      <td>2016-04-29</td>\n",
       "      <td>56</td>\n",
       "      <td>JARDIM DA PENHA</td>\n",
       "      <td>0</td>\n",
       "      <td>1</td>\n",
       "      <td>1</td>\n",
       "      <td>...</td>\n",
       "      <td>29</td>\n",
       "      <td>friday</td>\n",
       "      <td>16</td>\n",
       "      <td>weekday</td>\n",
       "      <td>4</td>\n",
       "      <td>17</td>\n",
       "      <td>29</td>\n",
       "      <td>friday</td>\n",
       "      <td>weekday</td>\n",
       "      <td>0</td>\n",
       "    </tr>\n",
       "  </tbody>\n",
       "</table>\n",
       "<p>5 rows × 30 columns</p>\n",
       "</div>"
      ],
      "text/plain": [
       "        patient_id  appointment_id gender       scheduled_day appointment_day  \\\n",
       "0   29872499824296         5642903      F 2016-04-29 18:38:08      2016-04-29   \n",
       "1  558997776694438         5642503      M 2016-04-29 16:08:27      2016-04-29   \n",
       "2    4262962299951         5642549      F 2016-04-29 16:19:04      2016-04-29   \n",
       "3     867951213174         5642828      F 2016-04-29 17:29:31      2016-04-29   \n",
       "4    8841186448183         5642494      F 2016-04-29 16:07:23      2016-04-29   \n",
       "\n",
       "   age      neighbourhood  scholarship  hipertension  diabetes  ...  \\\n",
       "0   62    JARDIM DA PENHA            0             1         0  ...   \n",
       "1   56    JARDIM DA PENHA            0             0         0  ...   \n",
       "2   62      MATA DA PRAIA            0             0         0  ...   \n",
       "3    8  PONTAL DE CAMBURI            0             0         0  ...   \n",
       "4   56    JARDIM DA PENHA            0             1         1  ...   \n",
       "\n",
       "   scheduled_dom scheduled_dow  scheduled_hour scheduled_day_type  \\\n",
       "0             29        friday              18            weekday   \n",
       "1             29        friday              16            weekday   \n",
       "2             29        friday              16            weekday   \n",
       "3             29        friday              17            weekday   \n",
       "4             29        friday              16            weekday   \n",
       "\n",
       "   appointment_month  appointment_week  appointment_dom appointment_dow  \\\n",
       "0                  4                17               29          friday   \n",
       "1                  4                17               29          friday   \n",
       "2                  4                17               29          friday   \n",
       "3                  4                17               29          friday   \n",
       "4                  4                17               29          friday   \n",
       "\n",
       "   appointment_day_type  wait_time  \n",
       "0               weekday          0  \n",
       "1               weekday          0  \n",
       "2               weekday          0  \n",
       "3               weekday          0  \n",
       "4               weekday          0  \n",
       "\n",
       "[5 rows x 30 columns]"
      ]
     },
     "execution_count": 21,
     "metadata": {},
     "output_type": "execute_result"
    }
   ],
   "source": [
    "# order of days for use in categorical plot.\n",
    "# chosen to keep saturday and sunday next to eachother to have weekend stand out\n",
    "day_order = ['monday','tuesday','wednesday','thursday','friday','saturday','sunday']\n",
    "weekend_days = ['saturday', 'sunday']\n",
    "\n",
    "# temporal features\n",
    "df['scheduled_month'] = pd.to_datetime(df['scheduled_day']).dt.month\n",
    "df['scheduled_week'] = pd.to_datetime(df['scheduled_day']).dt.week\n",
    "df['scheduled_dom'] = pd.to_datetime(df['scheduled_day']).dt.day\n",
    "df['scheduled_dow'] = pd.Categorical(pd.to_datetime(df['scheduled_day']).dt.day_name().str.lower(), ordered = True, categories = day_order)\n",
    "df['scheduled_hour'] = pd.to_datetime(df['scheduled_day']).dt.hour\n",
    "df['scheduled_day_type'] = df['scheduled_dow'].isin(weekend_days).replace({True : 'weekend', False : 'weekday'})\n",
    "\n",
    "\n",
    "# day, month, dow, hour\n",
    "# temporal features\n",
    "df['appointment_month'] = pd.to_datetime(df['appointment_day']).dt.month\n",
    "df['appointment_week'] = pd.to_datetime(df['appointment_day']).dt.week\n",
    "df['appointment_dom'] = pd.to_datetime(df['appointment_day']).dt.day\n",
    "df['appointment_dow'] = pd.Categorical(pd.to_datetime(df['appointment_day']).dt.day_name().str.lower(), ordered = True, categories = day_order)\n",
    "#df['appointment_hour'] = pd.to_datetime(df['appointment_day']).dt.hour\n",
    "df['appointment_day_type'] = df['appointment_dow'].isin(weekend_days).replace({True : 'weekend', False : 'weekday'})\n",
    "\n",
    "# get the wait-time for the appointment in days\n",
    "df['wait_time'] = (df['appointment_day'] - df['scheduled_day'])/np.timedelta64(1, 'D')\n",
    "df['wait_time'] = ((df['wait_time'] >= 0)*df['wait_time']).astype(int) # negative values to zero\n",
    "\n",
    "df.head()"
   ]
  },
  {
   "cell_type": "markdown",
   "metadata": {},
   "source": [
    "#### 3.2 per month"
   ]
  },
  {
   "cell_type": "code",
   "execution_count": 22,
   "metadata": {},
   "outputs": [],
   "source": [
    "# plotting functions we can use for all temporal elements\n",
    "def perc_plot(ax, df, date_part, col = '#9999FF'):\n",
    "    tmp = df.groupby(date_part, as_index=False)['no_show_bin'].mean()\n",
    "    sns.barplot(ax = ax, data = tmp, x = date_part, y = 'no_show_bin', color = col)\n",
    "    ax.axhline(df['no_show_bin'].mean(), color='red')\n",
    "    \n",
    "def temp_plot(df, date_part):\n",
    "    fig, ax = plt.subplots(2,2, figsize=(15,8)) #row,col\n",
    "    \n",
    "    sns.countplot(ax = ax[0][0], data = df, x = 'scheduled_'+date_part, color = sc['mid_grey'])\n",
    "    sns.countplot(ax = ax[0][1], data = df, x = 'appointment_'+date_part, color = sc['blue'])\n",
    "    \n",
    "    perc_plot(ax[1][0], df, 'scheduled_'+date_part, sc['mid_grey'])\n",
    "    perc_plot(ax[1][1], df, 'appointment_'+date_part, sc['blue'])"
   ]
  },
  {
   "cell_type": "code",
   "execution_count": 23,
   "metadata": {},
   "outputs": [
    {
     "data": {
      "text/html": [
       "<div>\n",
       "<style scoped>\n",
       "    .dataframe tbody tr th:only-of-type {\n",
       "        vertical-align: middle;\n",
       "    }\n",
       "\n",
       "    .dataframe tbody tr th {\n",
       "        vertical-align: top;\n",
       "    }\n",
       "\n",
       "    .dataframe thead th {\n",
       "        text-align: right;\n",
       "    }\n",
       "</style>\n",
       "<table border=\"1\" class=\"dataframe\">\n",
       "  <thead>\n",
       "    <tr style=\"text-align: right;\">\n",
       "      <th></th>\n",
       "      <th>scheduled_day</th>\n",
       "      <th>appointment_day</th>\n",
       "    </tr>\n",
       "  </thead>\n",
       "  <tbody>\n",
       "    <tr>\n",
       "      <th>min</th>\n",
       "      <td>2015-11-10 07:13:56</td>\n",
       "      <td>2016-04-29</td>\n",
       "    </tr>\n",
       "    <tr>\n",
       "      <th>max</th>\n",
       "      <td>2016-06-08 20:07:23</td>\n",
       "      <td>2016-06-08</td>\n",
       "    </tr>\n",
       "  </tbody>\n",
       "</table>\n",
       "</div>"
      ],
      "text/plain": [
       "          scheduled_day appointment_day\n",
       "min 2015-11-10 07:13:56      2016-04-29\n",
       "max 2016-06-08 20:07:23      2016-06-08"
      ]
     },
     "execution_count": 23,
     "metadata": {},
     "output_type": "execute_result"
    }
   ],
   "source": [
    "df[['scheduled_day','appointment_day']].agg(['min','max'])"
   ]
  },
  {
   "cell_type": "code",
   "execution_count": 24,
   "metadata": {},
   "outputs": [
    {
     "data": {
      "image/png": "[encoded data removed]",
      "text/plain": [
       "<Figure size 1080x576 with 4 Axes>"
      ]
     },
     "metadata": {},
     "output_type": "display_data"
    }
   ],
   "source": [
    "temp_plot(df, 'month')"
   ]
  },
  {
   "cell_type": "markdown",
   "metadata": {},
   "source": [
    "> Users that schedule their appointment before May (month=5), have a higher probability of not showing up than users in May and June (here, we see an below-average no-show rate). One hypothesis for this is that the wait-time, between scheduling the appointment and the appointment itself affects the no-show rate.\n",
    "\n",
    "> The month of the appointment doesn't have a massive influence.\n",
    "\n",
    "> note: month 12 is December 2015 (last year)."
   ]
  },
  {
   "cell_type": "markdown",
   "metadata": {},
   "source": [
    "#### 3.3 per week"
   ]
  },
  {
   "cell_type": "code",
   "execution_count": 25,
   "metadata": {},
   "outputs": [
    {
     "data": {
      "image/png": "[encoded data removed]",
      "text/plain": [
       "<Figure size 1080x576 with 4 Axes>"
      ]
     },
     "metadata": {},
     "output_type": "display_data"
    }
   ],
   "source": [
    "temp_plot(df, 'week')"
   ]
  },
  {
   "cell_type": "markdown",
   "metadata": {},
   "source": [
    "> weekly breakdown shows the same pattern observed for months:\n",
    "> * the week of the appointment doesn't affect the no-show rate much\n",
    "> * the scheduled-week does impact the no-show rate; months in May (where appointments are) show lower no-show rates."
   ]
  },
  {
   "cell_type": "markdown",
   "metadata": {},
   "source": [
    "#### 3.4 per day-of-month"
   ]
  },
  {
   "cell_type": "code",
   "execution_count": 26,
   "metadata": {},
   "outputs": [
    {
     "data": {
      "image/png": "[encoded data removed]",
      "text/plain": [
       "<Figure size 1080x576 with 4 Axes>"
      ]
     },
     "metadata": {},
     "output_type": "display_data"
    }
   ],
   "source": [
    "temp_plot(df, 'dom')"
   ]
  },
  {
   "cell_type": "markdown",
   "metadata": {},
   "source": [
    "> The day of the month does not seem to influence the no-show rate. The dominant peaks in scheduled day correlate with low nr of scheduled visits on those days, which could be weekends."
   ]
  },
  {
   "cell_type": "markdown",
   "metadata": {},
   "source": [
    "#### 3.5 per day-of-week"
   ]
  },
  {
   "cell_type": "code",
   "execution_count": 27,
   "metadata": {},
   "outputs": [
    {
     "data": {
      "image/png": "[encoded data removed]",
      "text/plain": [
       "<Figure size 1080x576 with 4 Axes>"
      ]
     },
     "metadata": {},
     "output_type": "display_data"
    }
   ],
   "source": [
    "temp_plot(df, 'dow')"
   ]
  },
  {
   "cell_type": "markdown",
   "metadata": {},
   "source": [
    "> Minimal differences in no-show rate for day of week. Visits scheduled on Saturday have a lower no-show rate, whilst the actual visits (appointments) on Saturday have a slightly higher no-show rate. But the general number of visits on Saturday are low, hence the low impact."
   ]
  },
  {
   "cell_type": "markdown",
   "metadata": {},
   "source": [
    "> There is no hour available for the appointments. For the scheduled_hour, there seems to be little impact."
   ]
  },
  {
   "cell_type": "markdown",
   "metadata": {},
   "source": [
    "#### 3.6 per day-type"
   ]
  },
  {
   "cell_type": "code",
   "execution_count": 28,
   "metadata": {},
   "outputs": [
    {
     "data": {
      "image/png": "[encoded data removed]",
      "text/plain": [
       "<Figure size 1080x576 with 4 Axes>"
      ]
     },
     "metadata": {},
     "output_type": "display_data"
    }
   ],
   "source": [
    "temp_plot(df, 'day_type')"
   ]
  },
  {
   "cell_type": "markdown",
   "metadata": {},
   "source": [
    "> Looking at weekend vs. weekday, we see the same pattern we saw from day-of-week. "
   ]
  },
  {
   "cell_type": "markdown",
   "metadata": {},
   "source": [
    "#### 3.7 wait-time\n",
    "Earlier on, we formuated the hypothesis that the wait-time between scheduling and appointment and the actial appointment might have a big impact, so lets verify this!"
   ]
  },
  {
   "cell_type": "code",
   "execution_count": 29,
   "metadata": {},
   "outputs": [
    {
     "data": {
      "text/html": [
       "<div>\n",
       "<style scoped>\n",
       "    .dataframe tbody tr th:only-of-type {\n",
       "        vertical-align: middle;\n",
       "    }\n",
       "\n",
       "    .dataframe tbody tr th {\n",
       "        vertical-align: top;\n",
       "    }\n",
       "\n",
       "    .dataframe thead th {\n",
       "        text-align: right;\n",
       "    }\n",
       "</style>\n",
       "<table border=\"1\" class=\"dataframe\">\n",
       "  <thead>\n",
       "    <tr style=\"text-align: right;\">\n",
       "      <th></th>\n",
       "      <th>wait_time</th>\n",
       "      <th>mean</th>\n",
       "      <th>size</th>\n",
       "    </tr>\n",
       "  </thead>\n",
       "  <tbody>\n",
       "    <tr>\n",
       "      <th>0</th>\n",
       "      <td>0</td>\n",
       "      <td>0.066469</td>\n",
       "      <td>43780</td>\n",
       "    </tr>\n",
       "    <tr>\n",
       "      <th>1</th>\n",
       "      <td>1</td>\n",
       "      <td>0.238216</td>\n",
       "      <td>6725</td>\n",
       "    </tr>\n",
       "    <tr>\n",
       "      <th>2</th>\n",
       "      <td>2</td>\n",
       "      <td>0.235294</td>\n",
       "      <td>2737</td>\n",
       "    </tr>\n",
       "    <tr>\n",
       "      <th>3</th>\n",
       "      <td>3</td>\n",
       "      <td>0.232703</td>\n",
       "      <td>5290</td>\n",
       "    </tr>\n",
       "    <tr>\n",
       "      <th>4</th>\n",
       "      <td>4</td>\n",
       "      <td>0.266097</td>\n",
       "      <td>3277</td>\n",
       "    </tr>\n",
       "  </tbody>\n",
       "</table>\n",
       "</div>"
      ],
      "text/plain": [
       "   wait_time      mean   size\n",
       "0          0  0.066469  43780\n",
       "1          1  0.238216   6725\n",
       "2          2  0.235294   2737\n",
       "3          3  0.232703   5290\n",
       "4          4  0.266097   3277"
      ]
     },
     "execution_count": 29,
     "metadata": {},
     "output_type": "execute_result"
    }
   ],
   "source": [
    "# calculate 'no-show rate' per wait-time in days\n",
    "# only when we have >100 visits\n",
    "waits = df.groupby('wait_time')['no_show_bin'].agg(['mean','size']).reset_index()\n",
    "waits = waits[waits['size'] > 100]\n",
    "waits.head()"
   ]
  },
  {
   "cell_type": "code",
   "execution_count": 30,
   "metadata": {},
   "outputs": [
    {
     "data": {
      "image/png": "[encoded data removed]",
      "text/plain": [
       "<Figure size 720x432 with 1 Axes>"
      ]
     },
     "metadata": {},
     "output_type": "display_data"
    }
   ],
   "source": [
    "# use a scaled version of 'group size' as markersize\n",
    "plt.figure(figsize = (10,6))\n",
    "plt.scatter(data = waits, x = 'wait_time', y = 'mean', s = np.power(waits['size'],5/6), c='b', alpha=0.35)\n",
    "plt.scatter(data = waits, x = 'wait_time', y = 'mean', s = 5, c='b', alpha=1)\n",
    "plt.axhline(df['no_show_bin'].mean(), color='red')\n",
    "\n",
    "gll = plt.scatter([],[], s=np.power(10000,2/3), marker='o', color='b')\n",
    "gl = plt.scatter([],[], s=np.power(5000,2/3), marker='o', color='b')\n",
    "ga = plt.scatter([],[], s=np.power(500,2/3), marker='o', color='b')\n",
    "\n",
    "plt.legend((gll,gl,ga),\n",
    "       ('10,000', '5,000', '500'),\n",
    "       scatterpoints=1,\n",
    "       loc='lower right',\n",
    "       ncol=1,\n",
    "       fontsize=8,\n",
    "       prop={'size': 20})\n",
    "\n",
    "plt.ylabel('no-show rate', fontsize = 12)\n",
    "plt.xlabel('wait-time (days) \\n between scheduling and actual appointment', fontsize = 12)\n",
    "plt.title('No-show rate vs. wait-time', fontsize = 14)\n",
    "plt.savefig('screenshot.png');"
   ]
  },
  {
   "cell_type": "markdown",
   "metadata": {},
   "source": [
    "> So far this indeed seems to be a winner! No wait-time (i.e. appointment on the same day as it is scheduled), sees a no-show rate of only 6.6%, observed fro 43,780 visits; substantially lower than the average of 20%. \n",
    "\n",
    "> In addition, we see that the no-show rate increases with wait-time; if the wait-time is >10 days, we see no-show percentages of > 30%!"
   ]
  },
  {
   "cell_type": "markdown",
   "metadata": {},
   "source": [
    "#### 3.8 wait-time & SMS\n",
    "Earlier on we've seen the counter-intuitive result that user who've received a reminder SMS got a higher no-show rate compared to users who've received no reminder sms. One hypothesis is that users with a low-wait time (same-day appointment) are not send a reminder. "
   ]
  },
  {
   "cell_type": "code",
   "execution_count": 31,
   "metadata": {},
   "outputs": [
    {
     "data": {
      "text/plain": [
       "wait_time\n",
       "0       0\n",
       "1       0\n",
       "2     906\n",
       "3    3054\n",
       "4    2054\n",
       "Name: sms_received, dtype: int64"
      ]
     },
     "execution_count": 31,
     "metadata": {},
     "output_type": "execute_result"
    }
   ],
   "source": [
    "df.groupby('wait_time')['sms_received'].sum().head()"
   ]
  },
  {
   "cell_type": "markdown",
   "metadata": {},
   "source": [
    "> our hunch was right! Users only seem to get a reminder sms when the wait-time is more than 1 day. If we filter on that, does the SMS seem to have a positive effect on no-show-rate?"
   ]
  },
  {
   "cell_type": "code",
   "execution_count": 32,
   "metadata": {},
   "outputs": [
    {
     "data": {
      "text/plain": [
       "sms_received\n",
       "0    0.326949\n",
       "1    0.275745\n",
       "Name: no_show_bin, dtype: float64"
      ]
     },
     "execution_count": 32,
     "metadata": {},
     "output_type": "execute_result"
    }
   ],
   "source": [
    "df[df['wait_time']>1].groupby('sms_received')['no_show_bin'].mean()"
   ]
  },
  {
   "cell_type": "markdown",
   "metadata": {},
   "source": [
    "> Yest it does! Getting a reminder SMS drop the no-show rate from 32.6% to 27.5%; a substantial improvement."
   ]
  },
  {
   "cell_type": "markdown",
   "metadata": {},
   "source": [
    "## 4. Behavioral (RFM)\n",
    "***\n",
    "So far, we've looked at temporal patterns and demographic patterns. We do however have a unique patient-id and repear visits, so we can also include some behavioral patterns! Often, we start here with RFM (Recency, Frequency and Value) as inspiration and look for similar metrics we can build from the available data.\n",
    "\n",
    "As temporal windows would apply, window functions would be our friend in SQL. To switch to Pandas equivalents: https://towardsdatascience.com/sql-window-functions-in-python-pandas-data-science-dc7c7a63cbb4\n",
    "\n",
    "Relating back to our goal *(.. understand if a patient is coming to his appointment, given available data)*, we note that the implication of this is that for a given user, with an appoint at time T, we can only use historic data uptill this time T."
   ]
  },
  {
   "cell_type": "markdown",
   "metadata": {},
   "source": [
    "#### 4.1 repeat visits"
   ]
  },
  {
   "cell_type": "code",
   "execution_count": 33,
   "metadata": {},
   "outputs": [
    {
     "name": "stdout",
     "output_type": "stream",
     "text": [
      "110526\n"
     ]
    },
    {
     "data": {
      "text/plain": [
       "62298"
      ]
     },
     "execution_count": 33,
     "metadata": {},
     "output_type": "execute_result"
    }
   ],
   "source": [
    "print(len(df))\n",
    "df['patient_id'].nunique()"
   ]
  },
  {
   "cell_type": "code",
   "execution_count": 34,
   "metadata": {},
   "outputs": [
    {
     "data": {
      "image/png": "[encoded data removed]",
      "text/plain": [
       "<Figure size 936x432 with 1 Axes>"
      ]
     },
     "metadata": {},
     "output_type": "display_data"
    }
   ],
   "source": [
    "plt.figure(figsize=(13,6))\n",
    "sns.countplot(df['patient_id'].value_counts()) #how often doe patients come to visit!?\n",
    "plt.xlabel('visits per user')\n",
    "plt.ylabel('users');"
   ]
  },
  {
   "cell_type": "markdown",
   "metadata": {},
   "source": [
    "> We have 110,526 recorded appointments, for 62,298 patients; on average we have ~two visits per user! Worth making some features for this."
   ]
  },
  {
   "cell_type": "markdown",
   "metadata": {},
   "source": [
    "#### 4.2 duplicate appointments - identification"
   ]
  },
  {
   "cell_type": "code",
   "execution_count": 35,
   "metadata": {},
   "outputs": [
    {
     "data": {
      "text/plain": [
       "110526"
      ]
     },
     "execution_count": 35,
     "metadata": {},
     "output_type": "execute_result"
    }
   ],
   "source": [
    "# appointment_id has strictly unique identifiers\n",
    "df.appointment_id.nunique()"
   ]
  },
  {
   "cell_type": "code",
   "execution_count": 36,
   "metadata": {},
   "outputs": [
    {
     "data": {
      "text/plain": [
       "8719"
      ]
     },
     "execution_count": 36,
     "metadata": {},
     "output_type": "execute_result"
    }
   ],
   "source": [
    "# patient + appointsment does have duplicates...\n",
    "df[['patient_id','appointment_day']].duplicated().sum()"
   ]
  },
  {
   "cell_type": "code",
   "execution_count": 37,
   "metadata": {},
   "outputs": [
    {
     "data": {
      "text/html": [
       "<div>\n",
       "<style scoped>\n",
       "    .dataframe tbody tr th:only-of-type {\n",
       "        vertical-align: middle;\n",
       "    }\n",
       "\n",
       "    .dataframe tbody tr th {\n",
       "        vertical-align: top;\n",
       "    }\n",
       "\n",
       "    .dataframe thead th {\n",
       "        text-align: right;\n",
       "    }\n",
       "</style>\n",
       "<table border=\"1\" class=\"dataframe\">\n",
       "  <thead>\n",
       "    <tr style=\"text-align: right;\">\n",
       "      <th></th>\n",
       "      <th>patient_id</th>\n",
       "      <th>appointment_id</th>\n",
       "      <th>gender</th>\n",
       "      <th>scheduled_day</th>\n",
       "      <th>appointment_day</th>\n",
       "      <th>age</th>\n",
       "      <th>neighbourhood</th>\n",
       "      <th>scholarship</th>\n",
       "      <th>hipertension</th>\n",
       "      <th>diabetes</th>\n",
       "      <th>...</th>\n",
       "      <th>scheduled_dom</th>\n",
       "      <th>scheduled_dow</th>\n",
       "      <th>scheduled_hour</th>\n",
       "      <th>scheduled_day_type</th>\n",
       "      <th>appointment_month</th>\n",
       "      <th>appointment_week</th>\n",
       "      <th>appointment_dom</th>\n",
       "      <th>appointment_dow</th>\n",
       "      <th>appointment_day_type</th>\n",
       "      <th>wait_time</th>\n",
       "    </tr>\n",
       "  </thead>\n",
       "  <tbody>\n",
       "    <tr>\n",
       "      <th>27</th>\n",
       "      <td>12154843752835</td>\n",
       "      <td>5628345</td>\n",
       "      <td>F</td>\n",
       "      <td>2016-04-27 10:51:45</td>\n",
       "      <td>2016-04-29</td>\n",
       "      <td>4</td>\n",
       "      <td>CONQUISTA</td>\n",
       "      <td>0</td>\n",
       "      <td>0</td>\n",
       "      <td>0</td>\n",
       "      <td>...</td>\n",
       "      <td>27</td>\n",
       "      <td>wednesday</td>\n",
       "      <td>10</td>\n",
       "      <td>weekday</td>\n",
       "      <td>4</td>\n",
       "      <td>17</td>\n",
       "      <td>29</td>\n",
       "      <td>friday</td>\n",
       "      <td>weekday</td>\n",
       "      <td>1</td>\n",
       "    </tr>\n",
       "    <tr>\n",
       "      <th>154</th>\n",
       "      <td>19252634865</td>\n",
       "      <td>5636933</td>\n",
       "      <td>F</td>\n",
       "      <td>2016-04-28 16:38:34</td>\n",
       "      <td>2016-04-29</td>\n",
       "      <td>30</td>\n",
       "      <td>ITARARÉ</td>\n",
       "      <td>0</td>\n",
       "      <td>0</td>\n",
       "      <td>0</td>\n",
       "      <td>...</td>\n",
       "      <td>28</td>\n",
       "      <td>thursday</td>\n",
       "      <td>16</td>\n",
       "      <td>weekday</td>\n",
       "      <td>4</td>\n",
       "      <td>17</td>\n",
       "      <td>29</td>\n",
       "      <td>friday</td>\n",
       "      <td>weekday</td>\n",
       "      <td>0</td>\n",
       "    </tr>\n",
       "    <tr>\n",
       "      <th>288</th>\n",
       "      <td>22462135793684</td>\n",
       "      <td>5532908</td>\n",
       "      <td>M</td>\n",
       "      <td>2016-03-31 12:39:06</td>\n",
       "      <td>2016-04-29</td>\n",
       "      <td>43</td>\n",
       "      <td>CARATOÍRA</td>\n",
       "      <td>0</td>\n",
       "      <td>0</td>\n",
       "      <td>0</td>\n",
       "      <td>...</td>\n",
       "      <td>31</td>\n",
       "      <td>thursday</td>\n",
       "      <td>12</td>\n",
       "      <td>weekday</td>\n",
       "      <td>4</td>\n",
       "      <td>17</td>\n",
       "      <td>29</td>\n",
       "      <td>friday</td>\n",
       "      <td>weekday</td>\n",
       "      <td>28</td>\n",
       "    </tr>\n",
       "    <tr>\n",
       "      <th>290</th>\n",
       "      <td>7222383233748</td>\n",
       "      <td>5566070</td>\n",
       "      <td>M</td>\n",
       "      <td>2016-04-11 09:50:18</td>\n",
       "      <td>2016-04-29</td>\n",
       "      <td>7</td>\n",
       "      <td>CARATOÍRA</td>\n",
       "      <td>0</td>\n",
       "      <td>0</td>\n",
       "      <td>0</td>\n",
       "      <td>...</td>\n",
       "      <td>11</td>\n",
       "      <td>monday</td>\n",
       "      <td>9</td>\n",
       "      <td>weekday</td>\n",
       "      <td>4</td>\n",
       "      <td>17</td>\n",
       "      <td>29</td>\n",
       "      <td>friday</td>\n",
       "      <td>weekday</td>\n",
       "      <td>17</td>\n",
       "    </tr>\n",
       "    <tr>\n",
       "      <th>316</th>\n",
       "      <td>17565785761493</td>\n",
       "      <td>5582867</td>\n",
       "      <td>F</td>\n",
       "      <td>2016-04-14 10:01:09</td>\n",
       "      <td>2016-04-29</td>\n",
       "      <td>1</td>\n",
       "      <td>JOANA D´ARC</td>\n",
       "      <td>0</td>\n",
       "      <td>0</td>\n",
       "      <td>0</td>\n",
       "      <td>...</td>\n",
       "      <td>14</td>\n",
       "      <td>thursday</td>\n",
       "      <td>10</td>\n",
       "      <td>weekday</td>\n",
       "      <td>4</td>\n",
       "      <td>17</td>\n",
       "      <td>29</td>\n",
       "      <td>friday</td>\n",
       "      <td>weekday</td>\n",
       "      <td>14</td>\n",
       "    </tr>\n",
       "  </tbody>\n",
       "</table>\n",
       "<p>5 rows × 30 columns</p>\n",
       "</div>"
      ],
      "text/plain": [
       "         patient_id  appointment_id gender       scheduled_day  \\\n",
       "27   12154843752835         5628345      F 2016-04-27 10:51:45   \n",
       "154     19252634865         5636933      F 2016-04-28 16:38:34   \n",
       "288  22462135793684         5532908      M 2016-03-31 12:39:06   \n",
       "290   7222383233748         5566070      M 2016-04-11 09:50:18   \n",
       "316  17565785761493         5582867      F 2016-04-14 10:01:09   \n",
       "\n",
       "    appointment_day  age neighbourhood  scholarship  hipertension  diabetes  \\\n",
       "27       2016-04-29    4     CONQUISTA            0             0         0   \n",
       "154      2016-04-29   30       ITARARÉ            0             0         0   \n",
       "288      2016-04-29   43     CARATOÍRA            0             0         0   \n",
       "290      2016-04-29    7     CARATOÍRA            0             0         0   \n",
       "316      2016-04-29    1   JOANA D´ARC            0             0         0   \n",
       "\n",
       "     ...  scheduled_dom scheduled_dow  scheduled_hour scheduled_day_type  \\\n",
       "27   ...             27     wednesday              10            weekday   \n",
       "154  ...             28      thursday              16            weekday   \n",
       "288  ...             31      thursday              12            weekday   \n",
       "290  ...             11        monday               9            weekday   \n",
       "316  ...             14      thursday              10            weekday   \n",
       "\n",
       "     appointment_month  appointment_week  appointment_dom appointment_dow  \\\n",
       "27                   4                17               29          friday   \n",
       "154                  4                17               29          friday   \n",
       "288                  4                17               29          friday   \n",
       "290                  4                17               29          friday   \n",
       "316                  4                17               29          friday   \n",
       "\n",
       "     appointment_day_type  wait_time  \n",
       "27                weekday          1  \n",
       "154               weekday          0  \n",
       "288               weekday         28  \n",
       "290               weekday         17  \n",
       "316               weekday         14  \n",
       "\n",
       "[5 rows x 30 columns]"
      ]
     },
     "execution_count": 37,
     "metadata": {},
     "output_type": "execute_result"
    }
   ],
   "source": [
    "df[df[['patient_id','appointment_day']].duplicated()].head()"
   ]
  },
  {
   "cell_type": "code",
   "execution_count": 38,
   "metadata": {},
   "outputs": [
    {
     "data": {
      "text/html": [
       "<div>\n",
       "<style scoped>\n",
       "    .dataframe tbody tr th:only-of-type {\n",
       "        vertical-align: middle;\n",
       "    }\n",
       "\n",
       "    .dataframe tbody tr th {\n",
       "        vertical-align: top;\n",
       "    }\n",
       "\n",
       "    .dataframe thead th {\n",
       "        text-align: right;\n",
       "    }\n",
       "</style>\n",
       "<table border=\"1\" class=\"dataframe\">\n",
       "  <thead>\n",
       "    <tr style=\"text-align: right;\">\n",
       "      <th></th>\n",
       "      <th>patient_id</th>\n",
       "      <th>appointment_id</th>\n",
       "      <th>gender</th>\n",
       "      <th>scheduled_day</th>\n",
       "      <th>appointment_day</th>\n",
       "      <th>age</th>\n",
       "      <th>neighbourhood</th>\n",
       "      <th>scholarship</th>\n",
       "      <th>hipertension</th>\n",
       "      <th>diabetes</th>\n",
       "      <th>...</th>\n",
       "      <th>scheduled_dom</th>\n",
       "      <th>scheduled_dow</th>\n",
       "      <th>scheduled_hour</th>\n",
       "      <th>scheduled_day_type</th>\n",
       "      <th>appointment_month</th>\n",
       "      <th>appointment_week</th>\n",
       "      <th>appointment_dom</th>\n",
       "      <th>appointment_dow</th>\n",
       "      <th>appointment_day_type</th>\n",
       "      <th>wait_time</th>\n",
       "    </tr>\n",
       "  </thead>\n",
       "  <tbody>\n",
       "    <tr>\n",
       "      <th>31226</th>\n",
       "      <td>1115255573477</td>\n",
       "      <td>5637950</td>\n",
       "      <td>M</td>\n",
       "      <td>2016-04-29 07:33:32</td>\n",
       "      <td>2016-05-03</td>\n",
       "      <td>60</td>\n",
       "      <td>CENTRO</td>\n",
       "      <td>0</td>\n",
       "      <td>0</td>\n",
       "      <td>0</td>\n",
       "      <td>...</td>\n",
       "      <td>29</td>\n",
       "      <td>friday</td>\n",
       "      <td>7</td>\n",
       "      <td>weekday</td>\n",
       "      <td>5</td>\n",
       "      <td>18</td>\n",
       "      <td>3</td>\n",
       "      <td>tuesday</td>\n",
       "      <td>weekday</td>\n",
       "      <td>3</td>\n",
       "    </tr>\n",
       "    <tr>\n",
       "      <th>31231</th>\n",
       "      <td>1115255573477</td>\n",
       "      <td>5637954</td>\n",
       "      <td>M</td>\n",
       "      <td>2016-04-29 07:33:43</td>\n",
       "      <td>2016-05-03</td>\n",
       "      <td>60</td>\n",
       "      <td>CENTRO</td>\n",
       "      <td>0</td>\n",
       "      <td>0</td>\n",
       "      <td>0</td>\n",
       "      <td>...</td>\n",
       "      <td>29</td>\n",
       "      <td>friday</td>\n",
       "      <td>7</td>\n",
       "      <td>weekday</td>\n",
       "      <td>5</td>\n",
       "      <td>18</td>\n",
       "      <td>3</td>\n",
       "      <td>tuesday</td>\n",
       "      <td>weekday</td>\n",
       "      <td>3</td>\n",
       "    </tr>\n",
       "    <tr>\n",
       "      <th>101631</th>\n",
       "      <td>1115255573477</td>\n",
       "      <td>5721667</td>\n",
       "      <td>M</td>\n",
       "      <td>2016-05-19 17:24:01</td>\n",
       "      <td>2016-06-01</td>\n",
       "      <td>60</td>\n",
       "      <td>CENTRO</td>\n",
       "      <td>0</td>\n",
       "      <td>0</td>\n",
       "      <td>0</td>\n",
       "      <td>...</td>\n",
       "      <td>19</td>\n",
       "      <td>thursday</td>\n",
       "      <td>17</td>\n",
       "      <td>weekday</td>\n",
       "      <td>6</td>\n",
       "      <td>22</td>\n",
       "      <td>1</td>\n",
       "      <td>wednesday</td>\n",
       "      <td>weekday</td>\n",
       "      <td>12</td>\n",
       "    </tr>\n",
       "    <tr>\n",
       "      <th>101635</th>\n",
       "      <td>1115255573477</td>\n",
       "      <td>5721666</td>\n",
       "      <td>M</td>\n",
       "      <td>2016-05-19 17:24:01</td>\n",
       "      <td>2016-06-01</td>\n",
       "      <td>60</td>\n",
       "      <td>CENTRO</td>\n",
       "      <td>0</td>\n",
       "      <td>0</td>\n",
       "      <td>0</td>\n",
       "      <td>...</td>\n",
       "      <td>19</td>\n",
       "      <td>thursday</td>\n",
       "      <td>17</td>\n",
       "      <td>weekday</td>\n",
       "      <td>6</td>\n",
       "      <td>22</td>\n",
       "      <td>1</td>\n",
       "      <td>wednesday</td>\n",
       "      <td>weekday</td>\n",
       "      <td>12</td>\n",
       "    </tr>\n",
       "  </tbody>\n",
       "</table>\n",
       "<p>4 rows × 30 columns</p>\n",
       "</div>"
      ],
      "text/plain": [
       "           patient_id  appointment_id gender       scheduled_day  \\\n",
       "31226   1115255573477         5637950      M 2016-04-29 07:33:32   \n",
       "31231   1115255573477         5637954      M 2016-04-29 07:33:43   \n",
       "101631  1115255573477         5721667      M 2016-05-19 17:24:01   \n",
       "101635  1115255573477         5721666      M 2016-05-19 17:24:01   \n",
       "\n",
       "       appointment_day  age neighbourhood  scholarship  hipertension  \\\n",
       "31226       2016-05-03   60        CENTRO            0             0   \n",
       "31231       2016-05-03   60        CENTRO            0             0   \n",
       "101631      2016-06-01   60        CENTRO            0             0   \n",
       "101635      2016-06-01   60        CENTRO            0             0   \n",
       "\n",
       "        diabetes  ...  scheduled_dom scheduled_dow  scheduled_hour  \\\n",
       "31226          0  ...             29        friday               7   \n",
       "31231          0  ...             29        friday               7   \n",
       "101631         0  ...             19      thursday              17   \n",
       "101635         0  ...             19      thursday              17   \n",
       "\n",
       "       scheduled_day_type  appointment_month  appointment_week  \\\n",
       "31226             weekday                  5                18   \n",
       "31231             weekday                  5                18   \n",
       "101631            weekday                  6                22   \n",
       "101635            weekday                  6                22   \n",
       "\n",
       "        appointment_dom appointment_dow  appointment_day_type  wait_time  \n",
       "31226                 3         tuesday               weekday          3  \n",
       "31231                 3         tuesday               weekday          3  \n",
       "101631                1       wednesday               weekday         12  \n",
       "101635                1       wednesday               weekday         12  \n",
       "\n",
       "[4 rows x 30 columns]"
      ]
     },
     "execution_count": 38,
     "metadata": {},
     "output_type": "execute_result"
    }
   ],
   "source": [
    "# check out a specific case\n",
    "df[df['patient_id'] == '1115255573477']"
   ]
  },
  {
   "cell_type": "markdown",
   "metadata": {},
   "source": [
    "> We can see two variation on duplicate `patient_id` + `appointment_day` here:\n",
    "> * different `scheduled_day` (often short period apart). This could hint towards i.e. creating a new appointment when changing details, or separate appointments if they visit two specialist at the clininc.\n",
    "> * also the same `scheduled_day`. This could be a logging issue (double recording with aut_increment in appointment_id) OR again two appointments with various specialist on the same day (note that appointment_day only has a 'date' granularity.\n",
    "\n",
    "> As we don't know the background behind this, we will try to annotate it for further analysis/user in the modeling. We will need to keep this in mind when we look at lags between a user's appointments."
   ]
  },
  {
   "cell_type": "code",
   "execution_count": 39,
   "metadata": {},
   "outputs": [
    {
     "data": {
      "text/plain": [
       "1334"
      ]
     },
     "execution_count": 39,
     "metadata": {},
     "output_type": "execute_result"
    }
   ],
   "source": [
    "# how often dow we see full duplicates!?\n",
    "df[['patient_id','appointment_day','scheduled_day']].duplicated().sum()"
   ]
  },
  {
   "cell_type": "markdown",
   "metadata": {},
   "source": [
    "#### 4.3 duplicate appointments - annotation"
   ]
  },
  {
   "cell_type": "code",
   "execution_count": 40,
   "metadata": {},
   "outputs": [
    {
     "data": {
      "text/html": [
       "<div>\n",
       "<style scoped>\n",
       "    .dataframe tbody tr th:only-of-type {\n",
       "        vertical-align: middle;\n",
       "    }\n",
       "\n",
       "    .dataframe tbody tr th {\n",
       "        vertical-align: top;\n",
       "    }\n",
       "\n",
       "    .dataframe thead th {\n",
       "        text-align: right;\n",
       "    }\n",
       "</style>\n",
       "<table border=\"1\" class=\"dataframe\">\n",
       "  <thead>\n",
       "    <tr style=\"text-align: right;\">\n",
       "      <th></th>\n",
       "      <th>patient_id</th>\n",
       "      <th>appointment_day</th>\n",
       "      <th>scheduled_day</th>\n",
       "      <th>appointment_id</th>\n",
       "      <th>no_show_bin</th>\n",
       "      <th>duplicate</th>\n",
       "      <th>duplicate_first</th>\n",
       "      <th>duplicate_last</th>\n",
       "    </tr>\n",
       "  </thead>\n",
       "  <tbody>\n",
       "    <tr>\n",
       "      <th>103284</th>\n",
       "      <td>111415561531417</td>\n",
       "      <td>2016-06-06</td>\n",
       "      <td>2016-05-19 16:13:52</td>\n",
       "      <td>5721379</td>\n",
       "      <td>1</td>\n",
       "      <td>1</td>\n",
       "      <td>0</td>\n",
       "      <td>1</td>\n",
       "    </tr>\n",
       "    <tr>\n",
       "      <th>105563</th>\n",
       "      <td>111415561531417</td>\n",
       "      <td>2016-06-06</td>\n",
       "      <td>2016-05-04 10:02:43</td>\n",
       "      <td>5657853</td>\n",
       "      <td>1</td>\n",
       "      <td>1</td>\n",
       "      <td>1</td>\n",
       "      <td>0</td>\n",
       "    </tr>\n",
       "    <tr>\n",
       "      <th>31231</th>\n",
       "      <td>1115255573477</td>\n",
       "      <td>2016-05-03</td>\n",
       "      <td>2016-04-29 07:33:43</td>\n",
       "      <td>5637954</td>\n",
       "      <td>0</td>\n",
       "      <td>1</td>\n",
       "      <td>0</td>\n",
       "      <td>1</td>\n",
       "    </tr>\n",
       "    <tr>\n",
       "      <th>31226</th>\n",
       "      <td>1115255573477</td>\n",
       "      <td>2016-05-03</td>\n",
       "      <td>2016-04-29 07:33:32</td>\n",
       "      <td>5637950</td>\n",
       "      <td>0</td>\n",
       "      <td>1</td>\n",
       "      <td>1</td>\n",
       "      <td>0</td>\n",
       "    </tr>\n",
       "    <tr>\n",
       "      <th>101635</th>\n",
       "      <td>1115255573477</td>\n",
       "      <td>2016-06-01</td>\n",
       "      <td>2016-05-19 17:24:01</td>\n",
       "      <td>5721666</td>\n",
       "      <td>0</td>\n",
       "      <td>1</td>\n",
       "      <td>1</td>\n",
       "      <td>0</td>\n",
       "    </tr>\n",
       "    <tr>\n",
       "      <th>101631</th>\n",
       "      <td>1115255573477</td>\n",
       "      <td>2016-06-01</td>\n",
       "      <td>2016-05-19 17:24:01</td>\n",
       "      <td>5721667</td>\n",
       "      <td>0</td>\n",
       "      <td>1</td>\n",
       "      <td>0</td>\n",
       "      <td>1</td>\n",
       "    </tr>\n",
       "    <tr>\n",
       "      <th>88388</th>\n",
       "      <td>11163631268489</td>\n",
       "      <td>2016-06-07</td>\n",
       "      <td>2016-05-24 14:37:56</td>\n",
       "      <td>5733888</td>\n",
       "      <td>0</td>\n",
       "      <td>1</td>\n",
       "      <td>0</td>\n",
       "      <td>1</td>\n",
       "    </tr>\n",
       "    <tr>\n",
       "      <th>109197</th>\n",
       "      <td>11163631268489</td>\n",
       "      <td>2016-06-07</td>\n",
       "      <td>2016-05-19 10:30:51</td>\n",
       "      <td>5719053</td>\n",
       "      <td>0</td>\n",
       "      <td>1</td>\n",
       "      <td>1</td>\n",
       "      <td>0</td>\n",
       "    </tr>\n",
       "    <tr>\n",
       "      <th>9085</th>\n",
       "      <td>11172734231776</td>\n",
       "      <td>2016-05-03</td>\n",
       "      <td>2016-05-03 07:24:53</td>\n",
       "      <td>5650036</td>\n",
       "      <td>0</td>\n",
       "      <td>1</td>\n",
       "      <td>1</td>\n",
       "      <td>0</td>\n",
       "    </tr>\n",
       "    <tr>\n",
       "      <th>9033</th>\n",
       "      <td>11172734231776</td>\n",
       "      <td>2016-05-03</td>\n",
       "      <td>2016-05-03 07:36:37</td>\n",
       "      <td>5650298</td>\n",
       "      <td>0</td>\n",
       "      <td>1</td>\n",
       "      <td>0</td>\n",
       "      <td>1</td>\n",
       "    </tr>\n",
       "  </tbody>\n",
       "</table>\n",
       "</div>"
      ],
      "text/plain": [
       "             patient_id appointment_day       scheduled_day  appointment_id  \\\n",
       "103284  111415561531417      2016-06-06 2016-05-19 16:13:52         5721379   \n",
       "105563  111415561531417      2016-06-06 2016-05-04 10:02:43         5657853   \n",
       "31231     1115255573477      2016-05-03 2016-04-29 07:33:43         5637954   \n",
       "31226     1115255573477      2016-05-03 2016-04-29 07:33:32         5637950   \n",
       "101635    1115255573477      2016-06-01 2016-05-19 17:24:01         5721666   \n",
       "101631    1115255573477      2016-06-01 2016-05-19 17:24:01         5721667   \n",
       "88388    11163631268489      2016-06-07 2016-05-24 14:37:56         5733888   \n",
       "109197   11163631268489      2016-06-07 2016-05-19 10:30:51         5719053   \n",
       "9085     11172734231776      2016-05-03 2016-05-03 07:24:53         5650036   \n",
       "9033     11172734231776      2016-05-03 2016-05-03 07:36:37         5650298   \n",
       "\n",
       "        no_show_bin  duplicate  duplicate_first  duplicate_last  \n",
       "103284            1          1                0               1  \n",
       "105563            1          1                1               0  \n",
       "31231             0          1                0               1  \n",
       "31226             0          1                1               0  \n",
       "101635            0          1                1               0  \n",
       "101631            0          1                0               1  \n",
       "88388             0          1                0               1  \n",
       "109197            0          1                1               0  \n",
       "9085              0          1                1               0  \n",
       "9033              0          1                0               1  "
      ]
     },
     "execution_count": 40,
     "metadata": {},
     "output_type": "execute_result"
    }
   ],
   "source": [
    "# get all dupplicates\n",
    "dupes = df[df[['patient_id','appointment_day']].duplicated(keep = False)][['patient_id','appointment_day','scheduled_day','appointment_id', 'no_show_bin']]\n",
    "\n",
    "# add a parameter denoting the duplication\n",
    "dupes['duplicate'] = 1\n",
    "\n",
    "# find the first case and annotate\n",
    "# by scheduled_day, or appointment_id if duplicated\n",
    "dupes['duplicate_first'] = dupes.sort_values(['scheduled_day','appointment_id'])\\\n",
    "                                     .groupby(['patient_id','appointment_day'])\\\n",
    "                                     .cumcount() + 1\n",
    "dupes['duplicate_first'] = (dupes['duplicate_first'] == 1)*1\n",
    "\n",
    "# find the last case and annotate\n",
    "# by scheduled_day, or appointment_id is duplicated\n",
    "dupes['duplicate_last'] = dupes.sort_values(['scheduled_day','appointment_id'], ascending = False)\\\n",
    "                                     .groupby(['patient_id','appointment_day'])\\\n",
    "                                     .cumcount() + 1\n",
    "dupes['duplicate_last'] = (dupes['duplicate_last'] == 1)*1\n",
    "\n",
    "dupes.sort_values('patient_id').head(10)"
   ]
  },
  {
   "cell_type": "code",
   "execution_count": 41,
   "metadata": {},
   "outputs": [
    {
     "data": {
      "text/plain": [
       "duplicate_last\n",
       "0    0.260580\n",
       "1    0.173907\n",
       "Name: no_show_bin, dtype: float64"
      ]
     },
     "execution_count": 41,
     "metadata": {},
     "output_type": "execute_result"
    }
   ],
   "source": [
    "dupes.groupby('duplicate_last')['no_show_bin'].mean()"
   ]
  },
  {
   "cell_type": "code",
   "execution_count": 42,
   "metadata": {},
   "outputs": [
    {
     "name": "stdout",
     "output_type": "stream",
     "text": [
      "2609\n"
     ]
    },
    {
     "data": {
      "text/plain": [
       "duplicate_last\n",
       "0    0.341826\n",
       "1    0.338629\n",
       "Name: no_show_bin, dtype: float64"
      ]
     },
     "execution_count": 42,
     "metadata": {},
     "output_type": "execute_result"
    }
   ],
   "source": [
    "# add full duplicates\n",
    "full_dupes = dupes[dupes[['patient_id','appointment_day','scheduled_day']].duplicated(keep=False)].reset_index(drop=True)\n",
    "full_dupes['full_duplicate'] = 1\n",
    "print(len(full_dupes))\n",
    "full_dupes.groupby('duplicate_last')['no_show_bin'].mean()"
   ]
  },
  {
   "cell_type": "markdown",
   "metadata": {},
   "source": [
    "> duplicates do have an effect on no-show rate. In general we, see the no-show rate for the last scheduled appointment is lower than the first, supporting the hypothesis that some 'changes' or 'updates' are made to an appointment and logged with a new appointment_id\n",
    "\n",
    "> for full duplicates (also same scheduled_time), we see a very high no-show rate of ~34%.\n",
    "\n",
    "> let's bring this into the main dataframe (SQL: left join & coalesce)"
   ]
  },
  {
   "cell_type": "code",
   "execution_count": 43,
   "metadata": {},
   "outputs": [
    {
     "data": {
      "text/plain": [
       "duplicate_last\n",
       "0    0.244867\n",
       "1    0.142562\n",
       "Name: no_show_bin, dtype: float64"
      ]
     },
     "execution_count": 43,
     "metadata": {},
     "output_type": "execute_result"
    }
   ],
   "source": [
    "# merge full_dupes and dupes\n",
    "dupes2 = dupes.merge(full_dupes[['patient_id','appointment_id','appointment_day','scheduled_day','full_duplicate']],\n",
    "                     on = 'appointment_id', how = 'left').fillna(0)\n",
    "\n",
    "dupes2[dupes2['full_duplicate'] == 0].groupby('duplicate_last')['no_show_bin'].mean()"
   ]
  },
  {
   "cell_type": "code",
   "execution_count": 44,
   "metadata": {},
   "outputs": [
    {
     "data": {
      "text/html": [
       "<div>\n",
       "<style scoped>\n",
       "    .dataframe tbody tr th:only-of-type {\n",
       "        vertical-align: middle;\n",
       "    }\n",
       "\n",
       "    .dataframe tbody tr th {\n",
       "        vertical-align: top;\n",
       "    }\n",
       "\n",
       "    .dataframe thead th {\n",
       "        text-align: right;\n",
       "    }\n",
       "</style>\n",
       "<table border=\"1\" class=\"dataframe\">\n",
       "  <thead>\n",
       "    <tr style=\"text-align: right;\">\n",
       "      <th></th>\n",
       "      <th>patient_id_x</th>\n",
       "      <th>appointment_day_x</th>\n",
       "      <th>scheduled_day_x</th>\n",
       "      <th>appointment_id</th>\n",
       "      <th>no_show_bin</th>\n",
       "      <th>duplicate</th>\n",
       "      <th>duplicate_first</th>\n",
       "      <th>duplicate_last</th>\n",
       "      <th>patient_id_y</th>\n",
       "      <th>appointment_day_y</th>\n",
       "      <th>scheduled_day_y</th>\n",
       "      <th>full_duplicate</th>\n",
       "    </tr>\n",
       "  </thead>\n",
       "  <tbody>\n",
       "    <tr>\n",
       "      <th>0</th>\n",
       "      <td>29872499824296</td>\n",
       "      <td>2016-04-29</td>\n",
       "      <td>2016-04-29 18:38:08</td>\n",
       "      <td>5642903</td>\n",
       "      <td>0</td>\n",
       "      <td>1</td>\n",
       "      <td>0</td>\n",
       "      <td>1</td>\n",
       "      <td>0</td>\n",
       "      <td>0</td>\n",
       "      <td>0</td>\n",
       "      <td>0.0</td>\n",
       "    </tr>\n",
       "    <tr>\n",
       "      <th>1</th>\n",
       "      <td>558997776694438</td>\n",
       "      <td>2016-04-29</td>\n",
       "      <td>2016-04-29 16:08:27</td>\n",
       "      <td>5642503</td>\n",
       "      <td>0</td>\n",
       "      <td>1</td>\n",
       "      <td>0</td>\n",
       "      <td>1</td>\n",
       "      <td>0</td>\n",
       "      <td>0</td>\n",
       "      <td>0</td>\n",
       "      <td>0.0</td>\n",
       "    </tr>\n",
       "    <tr>\n",
       "      <th>2</th>\n",
       "      <td>4262962299951</td>\n",
       "      <td>2016-04-29</td>\n",
       "      <td>2016-04-29 16:19:04</td>\n",
       "      <td>5642549</td>\n",
       "      <td>0</td>\n",
       "      <td>1</td>\n",
       "      <td>0</td>\n",
       "      <td>1</td>\n",
       "      <td>0</td>\n",
       "      <td>0</td>\n",
       "      <td>0</td>\n",
       "      <td>0.0</td>\n",
       "    </tr>\n",
       "    <tr>\n",
       "      <th>3</th>\n",
       "      <td>12154843752835</td>\n",
       "      <td>2016-04-29</td>\n",
       "      <td>2016-04-27 10:50:45</td>\n",
       "      <td>5628338</td>\n",
       "      <td>1</td>\n",
       "      <td>1</td>\n",
       "      <td>1</td>\n",
       "      <td>0</td>\n",
       "      <td>0</td>\n",
       "      <td>0</td>\n",
       "      <td>0</td>\n",
       "      <td>0.0</td>\n",
       "    </tr>\n",
       "    <tr>\n",
       "      <th>4</th>\n",
       "      <td>12154843752835</td>\n",
       "      <td>2016-04-29</td>\n",
       "      <td>2016-04-27 10:51:45</td>\n",
       "      <td>5628345</td>\n",
       "      <td>0</td>\n",
       "      <td>1</td>\n",
       "      <td>0</td>\n",
       "      <td>1</td>\n",
       "      <td>0</td>\n",
       "      <td>0</td>\n",
       "      <td>0</td>\n",
       "      <td>0.0</td>\n",
       "    </tr>\n",
       "  </tbody>\n",
       "</table>\n",
       "</div>"
      ],
      "text/plain": [
       "      patient_id_x appointment_day_x     scheduled_day_x  appointment_id  \\\n",
       "0   29872499824296        2016-04-29 2016-04-29 18:38:08         5642903   \n",
       "1  558997776694438        2016-04-29 2016-04-29 16:08:27         5642503   \n",
       "2    4262962299951        2016-04-29 2016-04-29 16:19:04         5642549   \n",
       "3   12154843752835        2016-04-29 2016-04-27 10:50:45         5628338   \n",
       "4   12154843752835        2016-04-29 2016-04-27 10:51:45         5628345   \n",
       "\n",
       "   no_show_bin  duplicate  duplicate_first  duplicate_last patient_id_y  \\\n",
       "0            0          1                0               1            0   \n",
       "1            0          1                0               1            0   \n",
       "2            0          1                0               1            0   \n",
       "3            1          1                1               0            0   \n",
       "4            0          1                0               1            0   \n",
       "\n",
       "  appointment_day_y scheduled_day_y  full_duplicate  \n",
       "0                 0               0             0.0  \n",
       "1                 0               0             0.0  \n",
       "2                 0               0             0.0  \n",
       "3                 0               0             0.0  \n",
       "4                 0               0             0.0  "
      ]
     },
     "execution_count": 44,
     "metadata": {},
     "output_type": "execute_result"
    }
   ],
   "source": [
    "dupes2.head()"
   ]
  },
  {
   "cell_type": "code",
   "execution_count": 45,
   "metadata": {},
   "outputs": [
    {
     "data": {
      "text/html": [
       "<div>\n",
       "<style scoped>\n",
       "    .dataframe tbody tr th:only-of-type {\n",
       "        vertical-align: middle;\n",
       "    }\n",
       "\n",
       "    .dataframe tbody tr th {\n",
       "        vertical-align: top;\n",
       "    }\n",
       "\n",
       "    .dataframe thead th {\n",
       "        text-align: right;\n",
       "    }\n",
       "</style>\n",
       "<table border=\"1\" class=\"dataframe\">\n",
       "  <thead>\n",
       "    <tr style=\"text-align: right;\">\n",
       "      <th></th>\n",
       "      <th>patient_id</th>\n",
       "      <th>appointment_id</th>\n",
       "      <th>gender</th>\n",
       "      <th>scheduled_day</th>\n",
       "      <th>appointment_day</th>\n",
       "      <th>age</th>\n",
       "      <th>neighbourhood</th>\n",
       "      <th>scholarship</th>\n",
       "      <th>hipertension</th>\n",
       "      <th>diabetes</th>\n",
       "      <th>...</th>\n",
       "      <th>appointment_month</th>\n",
       "      <th>appointment_week</th>\n",
       "      <th>appointment_dom</th>\n",
       "      <th>appointment_dow</th>\n",
       "      <th>appointment_day_type</th>\n",
       "      <th>wait_time</th>\n",
       "      <th>duplicate</th>\n",
       "      <th>duplicate_first</th>\n",
       "      <th>duplicate_last</th>\n",
       "      <th>full_duplicate</th>\n",
       "    </tr>\n",
       "  </thead>\n",
       "  <tbody>\n",
       "    <tr>\n",
       "      <th>0</th>\n",
       "      <td>29872499824296</td>\n",
       "      <td>5642903</td>\n",
       "      <td>F</td>\n",
       "      <td>2016-04-29 18:38:08</td>\n",
       "      <td>2016-04-29</td>\n",
       "      <td>62</td>\n",
       "      <td>JARDIM DA PENHA</td>\n",
       "      <td>0</td>\n",
       "      <td>1</td>\n",
       "      <td>0</td>\n",
       "      <td>...</td>\n",
       "      <td>4</td>\n",
       "      <td>17</td>\n",
       "      <td>29</td>\n",
       "      <td>friday</td>\n",
       "      <td>weekday</td>\n",
       "      <td>0</td>\n",
       "      <td>1.0</td>\n",
       "      <td>0.0</td>\n",
       "      <td>1.0</td>\n",
       "      <td>0.0</td>\n",
       "    </tr>\n",
       "    <tr>\n",
       "      <th>1</th>\n",
       "      <td>558997776694438</td>\n",
       "      <td>5642503</td>\n",
       "      <td>M</td>\n",
       "      <td>2016-04-29 16:08:27</td>\n",
       "      <td>2016-04-29</td>\n",
       "      <td>56</td>\n",
       "      <td>JARDIM DA PENHA</td>\n",
       "      <td>0</td>\n",
       "      <td>0</td>\n",
       "      <td>0</td>\n",
       "      <td>...</td>\n",
       "      <td>4</td>\n",
       "      <td>17</td>\n",
       "      <td>29</td>\n",
       "      <td>friday</td>\n",
       "      <td>weekday</td>\n",
       "      <td>0</td>\n",
       "      <td>1.0</td>\n",
       "      <td>0.0</td>\n",
       "      <td>1.0</td>\n",
       "      <td>0.0</td>\n",
       "    </tr>\n",
       "    <tr>\n",
       "      <th>2</th>\n",
       "      <td>4262962299951</td>\n",
       "      <td>5642549</td>\n",
       "      <td>F</td>\n",
       "      <td>2016-04-29 16:19:04</td>\n",
       "      <td>2016-04-29</td>\n",
       "      <td>62</td>\n",
       "      <td>MATA DA PRAIA</td>\n",
       "      <td>0</td>\n",
       "      <td>0</td>\n",
       "      <td>0</td>\n",
       "      <td>...</td>\n",
       "      <td>4</td>\n",
       "      <td>17</td>\n",
       "      <td>29</td>\n",
       "      <td>friday</td>\n",
       "      <td>weekday</td>\n",
       "      <td>0</td>\n",
       "      <td>1.0</td>\n",
       "      <td>0.0</td>\n",
       "      <td>1.0</td>\n",
       "      <td>0.0</td>\n",
       "    </tr>\n",
       "    <tr>\n",
       "      <th>3</th>\n",
       "      <td>867951213174</td>\n",
       "      <td>5642828</td>\n",
       "      <td>F</td>\n",
       "      <td>2016-04-29 17:29:31</td>\n",
       "      <td>2016-04-29</td>\n",
       "      <td>8</td>\n",
       "      <td>PONTAL DE CAMBURI</td>\n",
       "      <td>0</td>\n",
       "      <td>0</td>\n",
       "      <td>0</td>\n",
       "      <td>...</td>\n",
       "      <td>4</td>\n",
       "      <td>17</td>\n",
       "      <td>29</td>\n",
       "      <td>friday</td>\n",
       "      <td>weekday</td>\n",
       "      <td>0</td>\n",
       "      <td>NaN</td>\n",
       "      <td>NaN</td>\n",
       "      <td>NaN</td>\n",
       "      <td>NaN</td>\n",
       "    </tr>\n",
       "    <tr>\n",
       "      <th>4</th>\n",
       "      <td>8841186448183</td>\n",
       "      <td>5642494</td>\n",
       "      <td>F</td>\n",
       "      <td>2016-04-29 16:07:23</td>\n",
       "      <td>2016-04-29</td>\n",
       "      <td>56</td>\n",
       "      <td>JARDIM DA PENHA</td>\n",
       "      <td>0</td>\n",
       "      <td>1</td>\n",
       "      <td>1</td>\n",
       "      <td>...</td>\n",
       "      <td>4</td>\n",
       "      <td>17</td>\n",
       "      <td>29</td>\n",
       "      <td>friday</td>\n",
       "      <td>weekday</td>\n",
       "      <td>0</td>\n",
       "      <td>NaN</td>\n",
       "      <td>NaN</td>\n",
       "      <td>NaN</td>\n",
       "      <td>NaN</td>\n",
       "    </tr>\n",
       "  </tbody>\n",
       "</table>\n",
       "<p>5 rows × 34 columns</p>\n",
       "</div>"
      ],
      "text/plain": [
       "        patient_id  appointment_id gender       scheduled_day appointment_day  \\\n",
       "0   29872499824296         5642903      F 2016-04-29 18:38:08      2016-04-29   \n",
       "1  558997776694438         5642503      M 2016-04-29 16:08:27      2016-04-29   \n",
       "2    4262962299951         5642549      F 2016-04-29 16:19:04      2016-04-29   \n",
       "3     867951213174         5642828      F 2016-04-29 17:29:31      2016-04-29   \n",
       "4    8841186448183         5642494      F 2016-04-29 16:07:23      2016-04-29   \n",
       "\n",
       "   age      neighbourhood  scholarship  hipertension  diabetes  ...  \\\n",
       "0   62    JARDIM DA PENHA            0             1         0  ...   \n",
       "1   56    JARDIM DA PENHA            0             0         0  ...   \n",
       "2   62      MATA DA PRAIA            0             0         0  ...   \n",
       "3    8  PONTAL DE CAMBURI            0             0         0  ...   \n",
       "4   56    JARDIM DA PENHA            0             1         1  ...   \n",
       "\n",
       "   appointment_month appointment_week  appointment_dom appointment_dow  \\\n",
       "0                  4               17               29          friday   \n",
       "1                  4               17               29          friday   \n",
       "2                  4               17               29          friday   \n",
       "3                  4               17               29          friday   \n",
       "4                  4               17               29          friday   \n",
       "\n",
       "   appointment_day_type  wait_time  duplicate duplicate_first  duplicate_last  \\\n",
       "0               weekday          0        1.0             0.0             1.0   \n",
       "1               weekday          0        1.0             0.0             1.0   \n",
       "2               weekday          0        1.0             0.0             1.0   \n",
       "3               weekday          0        NaN             NaN             NaN   \n",
       "4               weekday          0        NaN             NaN             NaN   \n",
       "\n",
       "   full_duplicate  \n",
       "0             0.0  \n",
       "1             0.0  \n",
       "2             0.0  \n",
       "3             NaN  \n",
       "4             NaN  \n",
       "\n",
       "[5 rows x 34 columns]"
      ]
     },
     "execution_count": 45,
     "metadata": {},
     "output_type": "execute_result"
    }
   ],
   "source": [
    "# add our new parameters to the full group\n",
    "df = df.merge(dupes2[['appointment_id','duplicate','duplicate_first','duplicate_last','full_duplicate']],\n",
    "              on = 'appointment_id', how = 'left')\n",
    "df.head()"
   ]
  },
  {
   "cell_type": "code",
   "execution_count": 46,
   "metadata": {},
   "outputs": [
    {
     "data": {
      "text/html": [
       "<div>\n",
       "<style scoped>\n",
       "    .dataframe tbody tr th:only-of-type {\n",
       "        vertical-align: middle;\n",
       "    }\n",
       "\n",
       "    .dataframe tbody tr th {\n",
       "        vertical-align: top;\n",
       "    }\n",
       "\n",
       "    .dataframe thead th {\n",
       "        text-align: right;\n",
       "    }\n",
       "</style>\n",
       "<table border=\"1\" class=\"dataframe\">\n",
       "  <thead>\n",
       "    <tr style=\"text-align: right;\">\n",
       "      <th></th>\n",
       "      <th>patient_id</th>\n",
       "      <th>appointment_id</th>\n",
       "      <th>gender</th>\n",
       "      <th>scheduled_day</th>\n",
       "      <th>appointment_day</th>\n",
       "      <th>age</th>\n",
       "      <th>neighbourhood</th>\n",
       "      <th>scholarship</th>\n",
       "      <th>hipertension</th>\n",
       "      <th>diabetes</th>\n",
       "      <th>...</th>\n",
       "      <th>appointment_month</th>\n",
       "      <th>appointment_week</th>\n",
       "      <th>appointment_dom</th>\n",
       "      <th>appointment_dow</th>\n",
       "      <th>appointment_day_type</th>\n",
       "      <th>wait_time</th>\n",
       "      <th>duplicate</th>\n",
       "      <th>duplicate_first</th>\n",
       "      <th>duplicate_last</th>\n",
       "      <th>full_duplicate</th>\n",
       "    </tr>\n",
       "  </thead>\n",
       "  <tbody>\n",
       "    <tr>\n",
       "      <th>0</th>\n",
       "      <td>29872499824296</td>\n",
       "      <td>5642903</td>\n",
       "      <td>F</td>\n",
       "      <td>2016-04-29 18:38:08</td>\n",
       "      <td>2016-04-29</td>\n",
       "      <td>62</td>\n",
       "      <td>JARDIM DA PENHA</td>\n",
       "      <td>0</td>\n",
       "      <td>1</td>\n",
       "      <td>0</td>\n",
       "      <td>...</td>\n",
       "      <td>4</td>\n",
       "      <td>17</td>\n",
       "      <td>29</td>\n",
       "      <td>friday</td>\n",
       "      <td>weekday</td>\n",
       "      <td>0</td>\n",
       "      <td>1.0</td>\n",
       "      <td>0.0</td>\n",
       "      <td>1.0</td>\n",
       "      <td>0.0</td>\n",
       "    </tr>\n",
       "    <tr>\n",
       "      <th>1</th>\n",
       "      <td>558997776694438</td>\n",
       "      <td>5642503</td>\n",
       "      <td>M</td>\n",
       "      <td>2016-04-29 16:08:27</td>\n",
       "      <td>2016-04-29</td>\n",
       "      <td>56</td>\n",
       "      <td>JARDIM DA PENHA</td>\n",
       "      <td>0</td>\n",
       "      <td>0</td>\n",
       "      <td>0</td>\n",
       "      <td>...</td>\n",
       "      <td>4</td>\n",
       "      <td>17</td>\n",
       "      <td>29</td>\n",
       "      <td>friday</td>\n",
       "      <td>weekday</td>\n",
       "      <td>0</td>\n",
       "      <td>1.0</td>\n",
       "      <td>0.0</td>\n",
       "      <td>1.0</td>\n",
       "      <td>0.0</td>\n",
       "    </tr>\n",
       "    <tr>\n",
       "      <th>2</th>\n",
       "      <td>4262962299951</td>\n",
       "      <td>5642549</td>\n",
       "      <td>F</td>\n",
       "      <td>2016-04-29 16:19:04</td>\n",
       "      <td>2016-04-29</td>\n",
       "      <td>62</td>\n",
       "      <td>MATA DA PRAIA</td>\n",
       "      <td>0</td>\n",
       "      <td>0</td>\n",
       "      <td>0</td>\n",
       "      <td>...</td>\n",
       "      <td>4</td>\n",
       "      <td>17</td>\n",
       "      <td>29</td>\n",
       "      <td>friday</td>\n",
       "      <td>weekday</td>\n",
       "      <td>0</td>\n",
       "      <td>1.0</td>\n",
       "      <td>0.0</td>\n",
       "      <td>1.0</td>\n",
       "      <td>0.0</td>\n",
       "    </tr>\n",
       "    <tr>\n",
       "      <th>3</th>\n",
       "      <td>867951213174</td>\n",
       "      <td>5642828</td>\n",
       "      <td>F</td>\n",
       "      <td>2016-04-29 17:29:31</td>\n",
       "      <td>2016-04-29</td>\n",
       "      <td>8</td>\n",
       "      <td>PONTAL DE CAMBURI</td>\n",
       "      <td>0</td>\n",
       "      <td>0</td>\n",
       "      <td>0</td>\n",
       "      <td>...</td>\n",
       "      <td>4</td>\n",
       "      <td>17</td>\n",
       "      <td>29</td>\n",
       "      <td>friday</td>\n",
       "      <td>weekday</td>\n",
       "      <td>0</td>\n",
       "      <td>0.0</td>\n",
       "      <td>0.0</td>\n",
       "      <td>0.0</td>\n",
       "      <td>0.0</td>\n",
       "    </tr>\n",
       "    <tr>\n",
       "      <th>4</th>\n",
       "      <td>8841186448183</td>\n",
       "      <td>5642494</td>\n",
       "      <td>F</td>\n",
       "      <td>2016-04-29 16:07:23</td>\n",
       "      <td>2016-04-29</td>\n",
       "      <td>56</td>\n",
       "      <td>JARDIM DA PENHA</td>\n",
       "      <td>0</td>\n",
       "      <td>1</td>\n",
       "      <td>1</td>\n",
       "      <td>...</td>\n",
       "      <td>4</td>\n",
       "      <td>17</td>\n",
       "      <td>29</td>\n",
       "      <td>friday</td>\n",
       "      <td>weekday</td>\n",
       "      <td>0</td>\n",
       "      <td>0.0</td>\n",
       "      <td>0.0</td>\n",
       "      <td>0.0</td>\n",
       "      <td>0.0</td>\n",
       "    </tr>\n",
       "  </tbody>\n",
       "</table>\n",
       "<p>5 rows × 34 columns</p>\n",
       "</div>"
      ],
      "text/plain": [
       "        patient_id  appointment_id gender       scheduled_day appointment_day  \\\n",
       "0   29872499824296         5642903      F 2016-04-29 18:38:08      2016-04-29   \n",
       "1  558997776694438         5642503      M 2016-04-29 16:08:27      2016-04-29   \n",
       "2    4262962299951         5642549      F 2016-04-29 16:19:04      2016-04-29   \n",
       "3     867951213174         5642828      F 2016-04-29 17:29:31      2016-04-29   \n",
       "4    8841186448183         5642494      F 2016-04-29 16:07:23      2016-04-29   \n",
       "\n",
       "   age      neighbourhood  scholarship  hipertension  diabetes  ...  \\\n",
       "0   62    JARDIM DA PENHA            0             1         0  ...   \n",
       "1   56    JARDIM DA PENHA            0             0         0  ...   \n",
       "2   62      MATA DA PRAIA            0             0         0  ...   \n",
       "3    8  PONTAL DE CAMBURI            0             0         0  ...   \n",
       "4   56    JARDIM DA PENHA            0             1         1  ...   \n",
       "\n",
       "   appointment_month appointment_week  appointment_dom appointment_dow  \\\n",
       "0                  4               17               29          friday   \n",
       "1                  4               17               29          friday   \n",
       "2                  4               17               29          friday   \n",
       "3                  4               17               29          friday   \n",
       "4                  4               17               29          friday   \n",
       "\n",
       "   appointment_day_type  wait_time  duplicate duplicate_first  duplicate_last  \\\n",
       "0               weekday          0        1.0             0.0             1.0   \n",
       "1               weekday          0        1.0             0.0             1.0   \n",
       "2               weekday          0        1.0             0.0             1.0   \n",
       "3               weekday          0        0.0             0.0             0.0   \n",
       "4               weekday          0        0.0             0.0             0.0   \n",
       "\n",
       "   full_duplicate  \n",
       "0             0.0  \n",
       "1             0.0  \n",
       "2             0.0  \n",
       "3             0.0  \n",
       "4             0.0  \n",
       "\n",
       "[5 rows x 34 columns]"
      ]
     },
     "execution_count": 46,
     "metadata": {},
     "output_type": "execute_result"
    }
   ],
   "source": [
    "df['duplicate'].fillna(0, inplace=True)\n",
    "df['duplicate_first'].fillna(0, inplace=True)\n",
    "df['duplicate_last'].fillna(0, inplace=True)\n",
    "df['full_duplicate'].fillna(0, inplace=True)\n",
    "df.head()"
   ]
  },
  {
   "cell_type": "markdown",
   "metadata": {},
   "source": [
    "#### 4.4 number of visits (F)\n",
    "Number of visits as user has had. \n",
    "\n",
    "SQL: `ROW_NUMBER() OVER (PARTITION BY patient_id ORDER BY appointment_day)` \n",
    "\n",
    "We have generated parameters to deal with duplicates. "
   ]
  },
  {
   "cell_type": "code",
   "execution_count": 47,
   "metadata": {},
   "outputs": [
    {
     "data": {
      "text/html": [
       "<div>\n",
       "<style scoped>\n",
       "    .dataframe tbody tr th:only-of-type {\n",
       "        vertical-align: middle;\n",
       "    }\n",
       "\n",
       "    .dataframe tbody tr th {\n",
       "        vertical-align: top;\n",
       "    }\n",
       "\n",
       "    .dataframe thead th {\n",
       "        text-align: right;\n",
       "    }\n",
       "</style>\n",
       "<table border=\"1\" class=\"dataframe\">\n",
       "  <thead>\n",
       "    <tr style=\"text-align: right;\">\n",
       "      <th></th>\n",
       "      <th>patient_id</th>\n",
       "      <th>appointment_day</th>\n",
       "      <th>num_visits</th>\n",
       "    </tr>\n",
       "  </thead>\n",
       "  <tbody>\n",
       "    <tr>\n",
       "      <th>92442</th>\n",
       "      <td>729255235141745</td>\n",
       "      <td>2016-06-08</td>\n",
       "      <td>6</td>\n",
       "    </tr>\n",
       "    <tr>\n",
       "      <th>88146</th>\n",
       "      <td>947614361749238</td>\n",
       "      <td>2016-06-08</td>\n",
       "      <td>3</td>\n",
       "    </tr>\n",
       "    <tr>\n",
       "      <th>88147</th>\n",
       "      <td>356247857784</td>\n",
       "      <td>2016-06-08</td>\n",
       "      <td>2</td>\n",
       "    </tr>\n",
       "    <tr>\n",
       "      <th>87219</th>\n",
       "      <td>234131759175</td>\n",
       "      <td>2016-06-08</td>\n",
       "      <td>2</td>\n",
       "    </tr>\n",
       "    <tr>\n",
       "      <th>87223</th>\n",
       "      <td>5237164264312</td>\n",
       "      <td>2016-06-08</td>\n",
       "      <td>1</td>\n",
       "    </tr>\n",
       "  </tbody>\n",
       "</table>\n",
       "</div>"
      ],
      "text/plain": [
       "            patient_id appointment_day  num_visits\n",
       "92442  729255235141745      2016-06-08           6\n",
       "88146  947614361749238      2016-06-08           3\n",
       "88147     356247857784      2016-06-08           2\n",
       "87219     234131759175      2016-06-08           2\n",
       "87223    5237164264312      2016-06-08           1"
      ]
     },
     "execution_count": 47,
     "metadata": {},
     "output_type": "execute_result"
    }
   ],
   "source": [
    "df['num_visits'] = df.sort_values(['appointment_day','scheduled_day','appointment_id'], ascending=True)\\\n",
    "                     .groupby(['patient_id'])\\\n",
    "                     .cumcount() + 1\n",
    "\n",
    "df.sort_values(['appointment_day','scheduled_day','appointment_id'])[['patient_id','appointment_day','num_visits']].tail()"
   ]
  },
  {
   "cell_type": "code",
   "execution_count": 48,
   "metadata": {},
   "outputs": [
    {
     "data": {
      "text/html": [
       "<div>\n",
       "<style scoped>\n",
       "    .dataframe tbody tr th:only-of-type {\n",
       "        vertical-align: middle;\n",
       "    }\n",
       "\n",
       "    .dataframe tbody tr th {\n",
       "        vertical-align: top;\n",
       "    }\n",
       "\n",
       "    .dataframe thead th {\n",
       "        text-align: right;\n",
       "    }\n",
       "</style>\n",
       "<table border=\"1\" class=\"dataframe\">\n",
       "  <thead>\n",
       "    <tr style=\"text-align: right;\">\n",
       "      <th></th>\n",
       "      <th>mean</th>\n",
       "      <th>count</th>\n",
       "    </tr>\n",
       "    <tr>\n",
       "      <th>num_visits</th>\n",
       "      <th></th>\n",
       "      <th></th>\n",
       "    </tr>\n",
       "  </thead>\n",
       "  <tbody>\n",
       "    <tr>\n",
       "      <th>1</th>\n",
       "      <td>0.195287</td>\n",
       "      <td>62298</td>\n",
       "    </tr>\n",
       "    <tr>\n",
       "      <th>2</th>\n",
       "      <td>0.207720</td>\n",
       "      <td>24379</td>\n",
       "    </tr>\n",
       "    <tr>\n",
       "      <th>3</th>\n",
       "      <td>0.214327</td>\n",
       "      <td>10484</td>\n",
       "    </tr>\n",
       "    <tr>\n",
       "      <th>4</th>\n",
       "      <td>0.229334</td>\n",
       "      <td>4984</td>\n",
       "    </tr>\n",
       "    <tr>\n",
       "      <th>5</th>\n",
       "      <td>0.225067</td>\n",
       "      <td>2617</td>\n",
       "    </tr>\n",
       "  </tbody>\n",
       "</table>\n",
       "</div>"
      ],
      "text/plain": [
       "                mean  count\n",
       "num_visits                 \n",
       "1           0.195287  62298\n",
       "2           0.207720  24379\n",
       "3           0.214327  10484\n",
       "4           0.229334   4984\n",
       "5           0.225067   2617"
      ]
     },
     "execution_count": 48,
     "metadata": {},
     "output_type": "execute_result"
    }
   ],
   "source": [
    "df.groupby('num_visits')['no_show_bin'].agg(['mean','count']).head()"
   ]
  },
  {
   "cell_type": "markdown",
   "metadata": {},
   "source": [
    "#### 4.5 no_show last visit (M)\n",
    "SQL: `LAG(no_show_bin) OVER (PARTITION BY patient_id ORDER BY appointment_day)` + COALESCE"
   ]
  },
  {
   "cell_type": "code",
   "execution_count": 49,
   "metadata": {},
   "outputs": [
    {
     "data": {
      "text/plain": [
       "0    0.0\n",
       "1    0.0\n",
       "2    0.0\n",
       "3    0.0\n",
       "4    0.0\n",
       "Name: no_show_last_visit, dtype: float64"
      ]
     },
     "execution_count": 49,
     "metadata": {},
     "output_type": "execute_result"
    }
   ],
   "source": [
    "df['no_show_last_visit'] = df.sort_values(['appointment_day','scheduled_day','appointment_id'], ascending=True)\\\n",
    "                                          .groupby('patient_id')['no_show_bin'].shift(1).fillna(0)\n",
    "\n",
    "df['no_show_last_visit'].head()"
   ]
  },
  {
   "cell_type": "code",
   "execution_count": 50,
   "metadata": {},
   "outputs": [
    {
     "data": {
      "text/html": [
       "<div>\n",
       "<style scoped>\n",
       "    .dataframe tbody tr th:only-of-type {\n",
       "        vertical-align: middle;\n",
       "    }\n",
       "\n",
       "    .dataframe tbody tr th {\n",
       "        vertical-align: top;\n",
       "    }\n",
       "\n",
       "    .dataframe thead th {\n",
       "        text-align: right;\n",
       "    }\n",
       "</style>\n",
       "<table border=\"1\" class=\"dataframe\">\n",
       "  <thead>\n",
       "    <tr style=\"text-align: right;\">\n",
       "      <th></th>\n",
       "      <th>mean</th>\n",
       "      <th>count</th>\n",
       "    </tr>\n",
       "    <tr>\n",
       "      <th>no_show_last_visit</th>\n",
       "      <th></th>\n",
       "      <th></th>\n",
       "    </tr>\n",
       "  </thead>\n",
       "  <tbody>\n",
       "    <tr>\n",
       "      <th>0.0</th>\n",
       "      <td>0.187744</td>\n",
       "      <td>100488</td>\n",
       "    </tr>\n",
       "    <tr>\n",
       "      <th>1.0</th>\n",
       "      <td>0.343993</td>\n",
       "      <td>10038</td>\n",
       "    </tr>\n",
       "  </tbody>\n",
       "</table>\n",
       "</div>"
      ],
      "text/plain": [
       "                        mean   count\n",
       "no_show_last_visit                  \n",
       "0.0                 0.187744  100488\n",
       "1.0                 0.343993   10038"
      ]
     },
     "execution_count": 50,
     "metadata": {},
     "output_type": "execute_result"
    }
   ],
   "source": [
    "df.groupby('no_show_last_visit')['no_show_bin'].agg(['mean','count']).head()"
   ]
  },
  {
   "cell_type": "markdown",
   "metadata": {},
   "source": [
    "> We do have some noise here - `no_show_last_visit` also includes users that are 'visiting' for the first time. Let's adjust for that!"
   ]
  },
  {
   "cell_type": "code",
   "execution_count": 51,
   "metadata": {},
   "outputs": [
    {
     "data": {
      "text/html": [
       "<div>\n",
       "<style scoped>\n",
       "    .dataframe tbody tr th:only-of-type {\n",
       "        vertical-align: middle;\n",
       "    }\n",
       "\n",
       "    .dataframe tbody tr th {\n",
       "        vertical-align: top;\n",
       "    }\n",
       "\n",
       "    .dataframe thead th {\n",
       "        text-align: right;\n",
       "    }\n",
       "</style>\n",
       "<table border=\"1\" class=\"dataframe\">\n",
       "  <thead>\n",
       "    <tr style=\"text-align: right;\">\n",
       "      <th></th>\n",
       "      <th>mean</th>\n",
       "      <th>count</th>\n",
       "    </tr>\n",
       "    <tr>\n",
       "      <th>no_show_last_visit</th>\n",
       "      <th></th>\n",
       "      <th></th>\n",
       "    </tr>\n",
       "  </thead>\n",
       "  <tbody>\n",
       "    <tr>\n",
       "      <th>0.0</th>\n",
       "      <td>0.175439</td>\n",
       "      <td>38190</td>\n",
       "    </tr>\n",
       "    <tr>\n",
       "      <th>1.0</th>\n",
       "      <td>0.343993</td>\n",
       "      <td>10038</td>\n",
       "    </tr>\n",
       "  </tbody>\n",
       "</table>\n",
       "</div>"
      ],
      "text/plain": [
       "                        mean  count\n",
       "no_show_last_visit                 \n",
       "0.0                 0.175439  38190\n",
       "1.0                 0.343993  10038"
      ]
     },
     "execution_count": 51,
     "metadata": {},
     "output_type": "execute_result"
    }
   ],
   "source": [
    "df[df['num_visits']>1].groupby('no_show_last_visit')['no_show_bin'].agg(['mean','count']).head()"
   ]
  },
  {
   "cell_type": "markdown",
   "metadata": {},
   "source": [
    "> this is very interesting: a now show last visit means a user is twice as likely to not show up for this appointment!"
   ]
  },
  {
   "cell_type": "markdown",
   "metadata": {},
   "source": [
    "#### 4.6 time since last visit (R)\n",
    "SQL: `LAG(appointment_day) OVER (PARTITION BY patient_id ORDER BY appointment_day)`"
   ]
  },
  {
   "cell_type": "code",
   "execution_count": 52,
   "metadata": {},
   "outputs": [
    {
     "data": {
      "text/plain": [
       "110521    22\n",
       "110522     4\n",
       "110523     0\n",
       "110524    33\n",
       "110525    34\n",
       "Name: recency, dtype: int64"
      ]
     },
     "execution_count": 52,
     "metadata": {},
     "output_type": "execute_result"
    }
   ],
   "source": [
    "df['last_visit'] = df.sort_values(['appointment_day','scheduled_day','appointment_id'], ascending=True)\\\n",
    "                                          .groupby('patient_id')['appointment_day'].shift(1)\n",
    "\n",
    "# recency in days\n",
    "df['recency'] = (df['appointment_day'] - df['last_visit'])/np.timedelta64(1, 'D')\n",
    "df['recency'].fillna(0, inplace=True)\n",
    "df['recency'] = df['recency'].astype(int)\n",
    "df.drop('last_visit', axis = 1, inplace=True)\n",
    "\n",
    "df['recency'].tail()"
   ]
  },
  {
   "cell_type": "code",
   "execution_count": 53,
   "metadata": {},
   "outputs": [
    {
     "data": {
      "text/html": [
       "<div>\n",
       "<style scoped>\n",
       "    .dataframe tbody tr th:only-of-type {\n",
       "        vertical-align: middle;\n",
       "    }\n",
       "\n",
       "    .dataframe tbody tr th {\n",
       "        vertical-align: top;\n",
       "    }\n",
       "\n",
       "    .dataframe thead th {\n",
       "        text-align: right;\n",
       "    }\n",
       "</style>\n",
       "<table border=\"1\" class=\"dataframe\">\n",
       "  <thead>\n",
       "    <tr style=\"text-align: right;\">\n",
       "      <th></th>\n",
       "      <th>mean</th>\n",
       "      <th>count</th>\n",
       "    </tr>\n",
       "    <tr>\n",
       "      <th>recency</th>\n",
       "      <th></th>\n",
       "      <th></th>\n",
       "    </tr>\n",
       "  </thead>\n",
       "  <tbody>\n",
       "    <tr>\n",
       "      <th>0</th>\n",
       "      <td>0.177314</td>\n",
       "      <td>8719</td>\n",
       "    </tr>\n",
       "    <tr>\n",
       "      <th>1</th>\n",
       "      <td>0.180744</td>\n",
       "      <td>4487</td>\n",
       "    </tr>\n",
       "    <tr>\n",
       "      <th>2</th>\n",
       "      <td>0.193272</td>\n",
       "      <td>3151</td>\n",
       "    </tr>\n",
       "    <tr>\n",
       "      <th>3</th>\n",
       "      <td>0.211205</td>\n",
       "      <td>2249</td>\n",
       "    </tr>\n",
       "    <tr>\n",
       "      <th>4</th>\n",
       "      <td>0.216632</td>\n",
       "      <td>1948</td>\n",
       "    </tr>\n",
       "    <tr>\n",
       "      <th>5</th>\n",
       "      <td>0.216524</td>\n",
       "      <td>2457</td>\n",
       "    </tr>\n",
       "    <tr>\n",
       "      <th>6</th>\n",
       "      <td>0.222078</td>\n",
       "      <td>2310</td>\n",
       "    </tr>\n",
       "    <tr>\n",
       "      <th>7</th>\n",
       "      <td>0.255572</td>\n",
       "      <td>4038</td>\n",
       "    </tr>\n",
       "    <tr>\n",
       "      <th>8</th>\n",
       "      <td>0.220046</td>\n",
       "      <td>1736</td>\n",
       "    </tr>\n",
       "    <tr>\n",
       "      <th>9</th>\n",
       "      <td>0.238616</td>\n",
       "      <td>1098</td>\n",
       "    </tr>\n",
       "  </tbody>\n",
       "</table>\n",
       "</div>"
      ],
      "text/plain": [
       "             mean  count\n",
       "recency                 \n",
       "0        0.177314   8719\n",
       "1        0.180744   4487\n",
       "2        0.193272   3151\n",
       "3        0.211205   2249\n",
       "4        0.216632   1948\n",
       "5        0.216524   2457\n",
       "6        0.222078   2310\n",
       "7        0.255572   4038\n",
       "8        0.220046   1736\n",
       "9        0.238616   1098"
      ]
     },
     "execution_count": 53,
     "metadata": {},
     "output_type": "execute_result"
    }
   ],
   "source": [
    "df[df['num_visits']>1].groupby('recency')['no_show_bin'].agg(['mean','count']).head(10)"
   ]
  },
  {
   "cell_type": "markdown",
   "metadata": {},
   "source": [
    "> As expected, recency does not seem to make a massive difference. We do see that appointments following shortly after one-another have a lower no-show rate. Note that recency = 0 are the duplicates we've seen in 4.2 and 4.3"
   ]
  },
  {
   "cell_type": "markdown",
   "metadata": {},
   "source": [
    "## 5. Closing thoughts\n",
    "***"
   ]
  },
  {
   "cell_type": "markdown",
   "metadata": {},
   "source": [
    "#### 5.1 store our dataframe with the added features"
   ]
  },
  {
   "cell_type": "code",
   "execution_count": 54,
   "metadata": {},
   "outputs": [
    {
     "data": {
      "text/plain": [
       "0"
      ]
     },
     "execution_count": 54,
     "metadata": {},
     "output_type": "execute_result"
    }
   ],
   "source": [
    "# quick check for missing data & remove temp column\n",
    "df.drop('age_group', axis = 1, inplace = True)\n",
    "df.isnull().sum().sum()"
   ]
  },
  {
   "cell_type": "code",
   "execution_count": 55,
   "metadata": {},
   "outputs": [
    {
     "name": "stdout",
     "output_type": "stream",
     "text": [
      "data/no_shows_features.h5\n"
     ]
    }
   ],
   "source": [
    "filename = 'data/no_shows_features.h5'\n",
    "print(filename)"
   ]
  },
  {
   "cell_type": "code",
   "execution_count": 56,
   "metadata": {},
   "outputs": [],
   "source": [
    "df.to_hdf(filename, key = 'aap', mode = 'w', format ='table')"
   ]
  },
  {
   "cell_type": "code",
   "execution_count": 57,
   "metadata": {},
   "outputs": [
    {
     "name": "stdout",
     "output_type": "stream",
     "text": [
      "(110526, 36)\n",
      "<class 'pandas.core.frame.DataFrame'>\n",
      "Int64Index: 110526 entries, 0 to 110525\n",
      "Data columns (total 36 columns):\n",
      " #   Column                Non-Null Count   Dtype         \n",
      "---  ------                --------------   -----         \n",
      " 0   patient_id            110526 non-null  object        \n",
      " 1   appointment_id        110526 non-null  int64         \n",
      " 2   gender                110526 non-null  object        \n",
      " 3   scheduled_day         110526 non-null  datetime64[ns]\n",
      " 4   appointment_day       110526 non-null  datetime64[ns]\n",
      " 5   age                   110526 non-null  int64         \n",
      " 6   neighbourhood         110526 non-null  object        \n",
      " 7   scholarship           110526 non-null  int64         \n",
      " 8   hipertension          110526 non-null  int64         \n",
      " 9   diabetes              110526 non-null  int64         \n",
      " 10  alcoholism            110526 non-null  int64         \n",
      " 11  handicap              110526 non-null  category      \n",
      " 12  sms_received          110526 non-null  int64         \n",
      " 13  no_show               110526 non-null  object        \n",
      " 14  handicap_bin          110526 non-null  int64         \n",
      " 15  no_show_bin           110526 non-null  int64         \n",
      " 16  female                110526 non-null  int64         \n",
      " 17  scheduled_month       110526 non-null  int64         \n",
      " 18  scheduled_week        110526 non-null  int64         \n",
      " 19  scheduled_dom         110526 non-null  int64         \n",
      " 20  scheduled_dow         110526 non-null  category      \n",
      " 21  scheduled_hour        110526 non-null  int64         \n",
      " 22  scheduled_day_type    110526 non-null  object        \n",
      " 23  appointment_month     110526 non-null  int64         \n",
      " 24  appointment_week      110526 non-null  int64         \n",
      " 25  appointment_dom       110526 non-null  int64         \n",
      " 26  appointment_dow       110526 non-null  category      \n",
      " 27  appointment_day_type  110526 non-null  object        \n",
      " 28  wait_time             110526 non-null  int64         \n",
      " 29  duplicate             110526 non-null  float64       \n",
      " 30  duplicate_first       110526 non-null  float64       \n",
      " 31  duplicate_last        110526 non-null  float64       \n",
      " 32  full_duplicate        110526 non-null  float64       \n",
      " 33  num_visits            110526 non-null  int64         \n",
      " 34  no_show_last_visit    110526 non-null  float64       \n",
      " 35  recency               110526 non-null  int64         \n",
      "dtypes: category(3), datetime64[ns](2), float64(5), int64(20), object(6)\n",
      "memory usage: 34.0+ MB\n"
     ]
    }
   ],
   "source": [
    "df_check = pd.read_hdf(filename)\n",
    "print(df_check.shape)\n",
    "df.info()"
   ]
  },
  {
   "cell_type": "markdown",
   "metadata": {},
   "source": [
    "#### 5.2 outlook\n",
    "Main insights from this EDA are that `wait_time` and `previous no-shows` strong indicators of a current no-show seem to be. Whether a reminder SMS was send, surprisingly enough, show\n",
    "\n",
    "Other parameters show interesting patterns, but a less strong correlation with no_show than the above.\n",
    "\n",
    "We haven't considere correlations between the parameters themselves in this analysis, whereas we know we've introduced some highly-correlating parameter with the features we've created (by design). In the modelling phase, we thus need a model that can deal with this, which most likely would be a random forrest.\n"
   ]
  },
  {
   "cell_type": "markdown",
   "metadata": {},
   "source": [
    "#### 5.3 Closing note of RFM metrics\n",
    "RFM metrics (section 4) are based a a users historic interactions, including i.e. number of visits.\n",
    "\n",
    "As we only only have ~1 month of data, this will not use accurate statistics on a user. A user could be a frequent visitor on a montly basis (schedule recurrence for i.e. checkup), but we would still capture this user as 'new' with a '1 visit'.\n",
    "\n",
    "Having additional data (months) could help here. Typically, to deal with this we address calculations per cohort (i.e. all users that have been registered with us since xxx)."
   ]
  },
  {
   "cell_type": "code",
   "execution_count": null,
   "metadata": {},
   "outputs": [],
   "source": []
  }
 ],
 "metadata": {
  "kernelspec": {
   "display_name": "Python 3",
   "language": "python",
   "name": "python3"
  },
  "language_info": {
   "codemirror_mode": {
    "name": "ipython",
    "version": 3
   },
   "file_extension": ".py",
   "mimetype": "text/x-python",
   "name": "python",
   "nbconvert_exporter": "python",
   "pygments_lexer": "ipython3",
   "version": "3.8.4"
  }
 },
 "nbformat": 4,
 "nbformat_minor": 4
}
